{
 "cells": [
  {
   "cell_type": "markdown",
   "metadata": {
    "id": "NHdHDuH1umWc"
   },
   "source": [
    "# **Section 3 - Product Design, Development and Evaluation**"
   ]
  },
  {
   "cell_type": "markdown",
   "metadata": {
    "id": "8jONxIA5vEzK"
   },
   "source": [
    "# **The Business Challenge**\n",
    "\n",
    "British Standards Institution (BSI) https://www.bsigroup.com/en-GB/ sells both British Standards (BS) and International Standards (ISO ) as documents via its eshop, https://shop.bsigroup.com/. BSI's Marketing Department extract \n",
    "clickstream data sets for the eshop from Google Analytics and uses Tableau to analyse this data set to identify ways for increasing revenue. \n",
    "This challenge below is to analyse a relevant google analytics data set to identify ways to increase revenue by doing the following:\n",
    "\n",
    "\n",
    "Predicting:\n",
    "\n",
    "•\tVisitors that will buy or not buy a Standard.\n",
    "\n",
    "Analysing visitors’ behaviour such as:\n",
    "\n",
    "•\tHow do visitors enter the site (direct, search engines, other sources)?\n",
    " Which route results in the most sales?\n",
    "\n",
    "•\tA comparison of sales by new and returning visitors, region, browser and operating systems used by visitors.\n",
    "\n",
    "\n",
    "This business challenge is relevant to the data and analytics pathway in that it will follow the fundamental processes in data and analytics and data science as outlined in the data science hierarchy and the CRISP-DM model (Chapman et al. 1999) via (Kelleher & Tierney, 2018).\n",
    "\n",
    "Processes are:\n",
    "\n",
    "Business Understanding\n",
    "\n",
    "Data Understanding\n",
    "\n",
    "Data Preparation\n",
    "\n",
    "Modeling\n",
    "\n",
    "Evaluation\n"
   ]
  },
  {
   "cell_type": "markdown",
   "metadata": {
    "id": "y-wvhln-8MaM"
   },
   "source": [
    "# **Import Libraries**"
   ]
  },
  {
   "cell_type": "code",
   "execution_count": 312,
   "metadata": {
    "id": "EijCJ131vHSU"
   },
   "outputs": [],
   "source": [
    "import os\n",
    "import numpy as np\n",
    "import pandas as pd\n",
    "import seaborn as sns\n",
    "import datetime\n",
    "import matplotlib.pyplot as plt\n",
    "import matplotlib.cm as CM\n",
    "from google.colab import drive\n",
    "from sklearn import preprocessing\n",
    "from sklearn.metrics import mean_squared_error\n",
    "from sklearn.model_selection import GridSearchCV, train_test_split\n",
    "from sklearn.preprocessing import StandardScaler\n",
    "from sklearn.linear_model import LogisticRegression\n",
    "from sklearn.svm import LinearSVC\n",
    "from sklearn.tree import DecisionTreeClassifier\n",
    "from sklearn.ensemble import RandomForestClassifier\n",
    "from sklearn.naive_bayes import GaussianNB\n",
    "from sklearn.metrics import confusion_matrix\n",
    "from sklearn.neighbors import KNeighborsClassifier\n",
    "from sklearn.neural_network import MLPClassifier\n",
    "from sklearn.metrics import accuracy_score, precision_score, recall_score\n",
    "import lightgbm as lgb\n",
    "%matplotlib inline"
   ]
  },
  {
   "cell_type": "markdown",
   "metadata": {
    "id": "__oKWK93_9q1"
   },
   "source": [
    "# **Understanding The Data**\n"
   ]
  },
  {
   "cell_type": "markdown",
   "metadata": {
    "id": "nn0zxdaGeK59"
   },
   "source": [
    "# **Read the dataset into a pandas dataframe**\n"
   ]
  },
  {
   "cell_type": "code",
   "execution_count": 313,
   "metadata": {
    "id": "A5U91yUqeOx6"
   },
   "outputs": [],
   "source": [
    "data = pd.read_csv('./sample_data/online_shoppers_intention_edited.csv')"
   ]
  },
  {
   "cell_type": "code",
   "execution_count": 314,
   "metadata": {
    "colab": {
     "base_uri": "https://localhost:8080/",
     "height": 357
    },
    "id": "Z21NJYgcMfqr",
    "outputId": "bbddaa49-9a0a-489a-d3a3-48e18dc010c7"
   },
   "outputs": [
    {
     "data": {
      "text/html": [
       "\n",
       "  <div id=\"df-4ef0e9fe-6de1-4603-a466-26aa923c9fc4\">\n",
       "    <div class=\"colab-df-container\">\n",
       "      <div>\n",
       "<style scoped>\n",
       "    .dataframe tbody tr th:only-of-type {\n",
       "        vertical-align: middle;\n",
       "    }\n",
       "\n",
       "    .dataframe tbody tr th {\n",
       "        vertical-align: top;\n",
       "    }\n",
       "\n",
       "    .dataframe thead th {\n",
       "        text-align: right;\n",
       "    }\n",
       "</style>\n",
       "<table border=\"1\" class=\"dataframe\">\n",
       "  <thead>\n",
       "    <tr style=\"text-align: right;\">\n",
       "      <th></th>\n",
       "      <th>Administrative</th>\n",
       "      <th>Administrative_Duration</th>\n",
       "      <th>Informational</th>\n",
       "      <th>Informational_Duration</th>\n",
       "      <th>ProductRelated</th>\n",
       "      <th>ProductRelated_Duration</th>\n",
       "      <th>BounceRates</th>\n",
       "      <th>ExitRates</th>\n",
       "      <th>PageValues</th>\n",
       "      <th>SpecialDay</th>\n",
       "      <th>Month</th>\n",
       "      <th>OperatingSystems</th>\n",
       "      <th>Browser</th>\n",
       "      <th>Region</th>\n",
       "      <th>TrafficType</th>\n",
       "      <th>VisitorType</th>\n",
       "      <th>Weekend</th>\n",
       "      <th>Revenue</th>\n",
       "    </tr>\n",
       "  </thead>\n",
       "  <tbody>\n",
       "    <tr>\n",
       "      <th>0</th>\n",
       "      <td>0</td>\n",
       "      <td>0.0</td>\n",
       "      <td>0</td>\n",
       "      <td>0.0</td>\n",
       "      <td>1</td>\n",
       "      <td>0.00</td>\n",
       "      <td>0.20</td>\n",
       "      <td>0.20</td>\n",
       "      <td>0.0</td>\n",
       "      <td>0.0</td>\n",
       "      <td>Feb, 2016</td>\n",
       "      <td>Macintosh</td>\n",
       "      <td>Safari</td>\n",
       "      <td>European Union</td>\n",
       "      <td>Google</td>\n",
       "      <td>Returning_Visitor</td>\n",
       "      <td>False</td>\n",
       "      <td>False</td>\n",
       "    </tr>\n",
       "    <tr>\n",
       "      <th>1</th>\n",
       "      <td>0</td>\n",
       "      <td>0.0</td>\n",
       "      <td>0</td>\n",
       "      <td>0.0</td>\n",
       "      <td>2</td>\n",
       "      <td>64.00</td>\n",
       "      <td>0.00</td>\n",
       "      <td>0.10</td>\n",
       "      <td>0.0</td>\n",
       "      <td>0.0</td>\n",
       "      <td>Feb, 2016</td>\n",
       "      <td>Macintosh</td>\n",
       "      <td>Chrome</td>\n",
       "      <td>European Union</td>\n",
       "      <td>Direct</td>\n",
       "      <td>Returning_Visitor</td>\n",
       "      <td>False</td>\n",
       "      <td>False</td>\n",
       "    </tr>\n",
       "    <tr>\n",
       "      <th>2</th>\n",
       "      <td>0</td>\n",
       "      <td>0.0</td>\n",
       "      <td>0</td>\n",
       "      <td>0.0</td>\n",
       "      <td>1</td>\n",
       "      <td>0.00</td>\n",
       "      <td>0.20</td>\n",
       "      <td>0.20</td>\n",
       "      <td>0.0</td>\n",
       "      <td>0.0</td>\n",
       "      <td>Feb, 2016</td>\n",
       "      <td>iOS</td>\n",
       "      <td>Safari</td>\n",
       "      <td>Easter Europe</td>\n",
       "      <td>Partners</td>\n",
       "      <td>Returning_Visitor</td>\n",
       "      <td>False</td>\n",
       "      <td>False</td>\n",
       "    </tr>\n",
       "    <tr>\n",
       "      <th>3</th>\n",
       "      <td>0</td>\n",
       "      <td>0.0</td>\n",
       "      <td>0</td>\n",
       "      <td>0.0</td>\n",
       "      <td>2</td>\n",
       "      <td>2.67</td>\n",
       "      <td>0.05</td>\n",
       "      <td>0.14</td>\n",
       "      <td>0.0</td>\n",
       "      <td>0.0</td>\n",
       "      <td>Feb, 2016</td>\n",
       "      <td>Android</td>\n",
       "      <td>Chrome</td>\n",
       "      <td>North America</td>\n",
       "      <td>Youtube</td>\n",
       "      <td>Returning_Visitor</td>\n",
       "      <td>False</td>\n",
       "      <td>False</td>\n",
       "    </tr>\n",
       "    <tr>\n",
       "      <th>4</th>\n",
       "      <td>0</td>\n",
       "      <td>0.0</td>\n",
       "      <td>0</td>\n",
       "      <td>0.0</td>\n",
       "      <td>10</td>\n",
       "      <td>627.50</td>\n",
       "      <td>0.02</td>\n",
       "      <td>0.05</td>\n",
       "      <td>0.0</td>\n",
       "      <td>0.0</td>\n",
       "      <td>Feb, 2016</td>\n",
       "      <td>Android</td>\n",
       "      <td>UC Browser</td>\n",
       "      <td>European Union</td>\n",
       "      <td>Youtube</td>\n",
       "      <td>Returning_Visitor</td>\n",
       "      <td>True</td>\n",
       "      <td>False</td>\n",
       "    </tr>\n",
       "  </tbody>\n",
       "</table>\n",
       "</div>\n",
       "      <button class=\"colab-df-convert\" onclick=\"convertToInteractive('df-4ef0e9fe-6de1-4603-a466-26aa923c9fc4')\"\n",
       "              title=\"Convert this dataframe to an interactive table.\"\n",
       "              style=\"display:none;\">\n",
       "        \n",
       "  <svg xmlns=\"http://www.w3.org/2000/svg\" height=\"24px\"viewBox=\"0 0 24 24\"\n",
       "       width=\"24px\">\n",
       "    <path d=\"M0 0h24v24H0V0z\" fill=\"none\"/>\n",
       "    <path d=\"M18.56 5.44l.94 2.06.94-2.06 2.06-.94-2.06-.94-.94-2.06-.94 2.06-2.06.94zm-11 1L8.5 8.5l.94-2.06 2.06-.94-2.06-.94L8.5 2.5l-.94 2.06-2.06.94zm10 10l.94 2.06.94-2.06 2.06-.94-2.06-.94-.94-2.06-.94 2.06-2.06.94z\"/><path d=\"M17.41 7.96l-1.37-1.37c-.4-.4-.92-.59-1.43-.59-.52 0-1.04.2-1.43.59L10.3 9.45l-7.72 7.72c-.78.78-.78 2.05 0 2.83L4 21.41c.39.39.9.59 1.41.59.51 0 1.02-.2 1.41-.59l7.78-7.78 2.81-2.81c.8-.78.8-2.07 0-2.86zM5.41 20L4 18.59l7.72-7.72 1.47 1.35L5.41 20z\"/>\n",
       "  </svg>\n",
       "      </button>\n",
       "      \n",
       "  <style>\n",
       "    .colab-df-container {\n",
       "      display:flex;\n",
       "      flex-wrap:wrap;\n",
       "      gap: 12px;\n",
       "    }\n",
       "\n",
       "    .colab-df-convert {\n",
       "      background-color: #E8F0FE;\n",
       "      border: none;\n",
       "      border-radius: 50%;\n",
       "      cursor: pointer;\n",
       "      display: none;\n",
       "      fill: #1967D2;\n",
       "      height: 32px;\n",
       "      padding: 0 0 0 0;\n",
       "      width: 32px;\n",
       "    }\n",
       "\n",
       "    .colab-df-convert:hover {\n",
       "      background-color: #E2EBFA;\n",
       "      box-shadow: 0px 1px 2px rgba(60, 64, 67, 0.3), 0px 1px 3px 1px rgba(60, 64, 67, 0.15);\n",
       "      fill: #174EA6;\n",
       "    }\n",
       "\n",
       "    [theme=dark] .colab-df-convert {\n",
       "      background-color: #3B4455;\n",
       "      fill: #D2E3FC;\n",
       "    }\n",
       "\n",
       "    [theme=dark] .colab-df-convert:hover {\n",
       "      background-color: #434B5C;\n",
       "      box-shadow: 0px 1px 3px 1px rgba(0, 0, 0, 0.15);\n",
       "      filter: drop-shadow(0px 1px 2px rgba(0, 0, 0, 0.3));\n",
       "      fill: #FFFFFF;\n",
       "    }\n",
       "  </style>\n",
       "\n",
       "      <script>\n",
       "        const buttonEl =\n",
       "          document.querySelector('#df-4ef0e9fe-6de1-4603-a466-26aa923c9fc4 button.colab-df-convert');\n",
       "        buttonEl.style.display =\n",
       "          google.colab.kernel.accessAllowed ? 'block' : 'none';\n",
       "\n",
       "        async function convertToInteractive(key) {\n",
       "          const element = document.querySelector('#df-4ef0e9fe-6de1-4603-a466-26aa923c9fc4');\n",
       "          const dataTable =\n",
       "            await google.colab.kernel.invokeFunction('convertToInteractive',\n",
       "                                                     [key], {});\n",
       "          if (!dataTable) return;\n",
       "\n",
       "          const docLinkHtml = 'Like what you see? Visit the ' +\n",
       "            '<a target=\"_blank\" href=https://colab.research.google.com/notebooks/data_table.ipynb>data table notebook</a>'\n",
       "            + ' to learn more about interactive tables.';\n",
       "          element.innerHTML = '';\n",
       "          dataTable['output_type'] = 'display_data';\n",
       "          await google.colab.output.renderOutput(dataTable, element);\n",
       "          const docLink = document.createElement('div');\n",
       "          docLink.innerHTML = docLinkHtml;\n",
       "          element.appendChild(docLink);\n",
       "        }\n",
       "      </script>\n",
       "    </div>\n",
       "  </div>\n",
       "  "
      ],
      "text/plain": [
       "   Administrative  Administrative_Duration  Informational  \\\n",
       "0               0                      0.0              0   \n",
       "1               0                      0.0              0   \n",
       "2               0                      0.0              0   \n",
       "3               0                      0.0              0   \n",
       "4               0                      0.0              0   \n",
       "\n",
       "   Informational_Duration  ProductRelated  ProductRelated_Duration  \\\n",
       "0                     0.0               1                     0.00   \n",
       "1                     0.0               2                    64.00   \n",
       "2                     0.0               1                     0.00   \n",
       "3                     0.0               2                     2.67   \n",
       "4                     0.0              10                   627.50   \n",
       "\n",
       "   BounceRates  ExitRates  PageValues  SpecialDay      Month OperatingSystems  \\\n",
       "0         0.20       0.20         0.0         0.0  Feb, 2016        Macintosh   \n",
       "1         0.00       0.10         0.0         0.0  Feb, 2016        Macintosh   \n",
       "2         0.20       0.20         0.0         0.0  Feb, 2016              iOS   \n",
       "3         0.05       0.14         0.0         0.0  Feb, 2016          Android   \n",
       "4         0.02       0.05         0.0         0.0  Feb, 2016          Android   \n",
       "\n",
       "      Browser          Region TrafficType        VisitorType  Weekend  Revenue  \n",
       "0      Safari  European Union      Google  Returning_Visitor    False    False  \n",
       "1      Chrome  European Union      Direct  Returning_Visitor    False    False  \n",
       "2      Safari   Easter Europe    Partners  Returning_Visitor    False    False  \n",
       "3      Chrome   North America     Youtube  Returning_Visitor    False    False  \n",
       "4  UC Browser  European Union     Youtube  Returning_Visitor     True    False  "
      ]
     },
     "execution_count": 314,
     "metadata": {},
     "output_type": "execute_result"
    }
   ],
   "source": [
    "#display first 5 rows to see what the data set looks like\n",
    "data.head()"
   ]
  },
  {
   "cell_type": "markdown",
   "metadata": {
    "id": "4CtfL5GzSr8n"
   },
   "source": [
    "# **Get dataset information**"
   ]
  },
  {
   "cell_type": "code",
   "execution_count": 315,
   "metadata": {
    "colab": {
     "base_uri": "https://localhost:8080/"
    },
    "id": "twLbiJ1UhhvZ",
    "outputId": "047e51a4-26d6-4cfe-f410-e6bcf322c4a5"
   },
   "outputs": [
    {
     "name": "stdout",
     "output_type": "stream",
     "text": [
      "<class 'pandas.core.frame.DataFrame'>\n",
      "RangeIndex: 12330 entries, 0 to 12329\n",
      "Data columns (total 18 columns):\n",
      " #   Column                   Non-Null Count  Dtype  \n",
      "---  ------                   --------------  -----  \n",
      " 0   Administrative           12330 non-null  int64  \n",
      " 1   Administrative_Duration  12330 non-null  float64\n",
      " 2   Informational            12330 non-null  int64  \n",
      " 3   Informational_Duration   12330 non-null  float64\n",
      " 4   ProductRelated           12330 non-null  int64  \n",
      " 5   ProductRelated_Duration  12330 non-null  float64\n",
      " 6   BounceRates              12330 non-null  float64\n",
      " 7   ExitRates                12330 non-null  float64\n",
      " 8   PageValues               12330 non-null  float64\n",
      " 9   SpecialDay               12330 non-null  float64\n",
      " 10  Month                    12330 non-null  object \n",
      " 11  OperatingSystems         12330 non-null  object \n",
      " 12  Browser                  12330 non-null  object \n",
      " 13  Region                   12330 non-null  object \n",
      " 14  TrafficType              12330 non-null  object \n",
      " 15  VisitorType              12330 non-null  object \n",
      " 16  Weekend                  12330 non-null  bool   \n",
      " 17  Revenue                  12330 non-null  bool   \n",
      "dtypes: bool(2), float64(7), int64(3), object(6)\n",
      "memory usage: 1.5+ MB\n"
     ]
    }
   ],
   "source": [
    "data.info()"
   ]
  },
  {
   "cell_type": "markdown",
   "metadata": {
    "id": "FrU2qOFWM6Zi"
   },
   "source": [
    "The data set has 18 columns and 12330 rows each representing an idividual visitor to the eshop. The rows are of different data types.\n",
    "\n",
    "Meta data table below exaplains what each column represents\n",
    "![image.png](data:image/png;base64,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)"
   ]
  },
  {
   "cell_type": "markdown",
   "metadata": {
    "id": "fEEeGrE1AaAR"
   },
   "source": [
    "**Check if there are null values in the data set. The result shows there is none**"
   ]
  },
  {
   "cell_type": "code",
   "execution_count": 316,
   "metadata": {
    "colab": {
     "base_uri": "https://localhost:8080/"
    },
    "id": "ZFObHsr6AayZ",
    "outputId": "9cfe68a1-0726-4961-a412-84cd4e455105"
   },
   "outputs": [
    {
     "data": {
      "text/plain": [
       "Administrative             0\n",
       "Administrative_Duration    0\n",
       "Informational              0\n",
       "Informational_Duration     0\n",
       "ProductRelated             0\n",
       "ProductRelated_Duration    0\n",
       "BounceRates                0\n",
       "ExitRates                  0\n",
       "PageValues                 0\n",
       "SpecialDay                 0\n",
       "Month                      0\n",
       "OperatingSystems           0\n",
       "Browser                    0\n",
       "Region                     0\n",
       "TrafficType                0\n",
       "VisitorType                0\n",
       "Weekend                    0\n",
       "Revenue                    0\n",
       "dtype: int64"
      ]
     },
     "execution_count": 316,
     "metadata": {},
     "output_type": "execute_result"
    }
   ],
   "source": [
    "data.isnull().sum()"
   ]
  },
  {
   "cell_type": "markdown",
   "metadata": {
    "id": "Jbncq7ngDClQ"
   },
   "source": [
    "**Check if there are duplicated rows in the data set. The result shows that there are 125 duplicates. It is usually best to investigate these, especially if the data set is small. This data set is large so these 125 rows can be deleted.**"
   ]
  },
  {
   "cell_type": "code",
   "execution_count": 317,
   "metadata": {
    "colab": {
     "base_uri": "https://localhost:8080/"
    },
    "id": "F8Kr5pk6Ahz7",
    "outputId": "3b4e8701-2a53-47a0-e948-5888516cf2fd"
   },
   "outputs": [
    {
     "name": "stdout",
     "output_type": "stream",
     "text": [
      "duplicate rows:  125\n"
     ]
    }
   ],
   "source": [
    "print(\"duplicate rows: \", data.duplicated().sum())"
   ]
  },
  {
   "cell_type": "code",
   "execution_count": 318,
   "metadata": {
    "id": "HN-47m3NA6vW"
   },
   "outputs": [],
   "source": [
    "data.drop_duplicates(inplace=True)"
   ]
  },
  {
   "cell_type": "markdown",
   "metadata": {
    "id": "GvnPQp36En43"
   },
   "source": [
    "# **Display statistical information for the numerical columns.**\n",
    "\n",
    "The Produt RelatedDuration column has large values. The mean value is 1206 seconds or 20 minutes and the maximum value is 63973.52 seconds or 17 hours which. The average time is a reasonable a durations for looking at products on an eshop before buying. However, the mean time is high and could possibly be related to visitors not closing pages after looking at produts."
   ]
  },
  {
   "cell_type": "code",
   "execution_count": 319,
   "metadata": {
    "colab": {
     "base_uri": "https://localhost:8080/",
     "height": 300
    },
    "id": "w29X_PiPCXOe",
    "outputId": "5976d91b-d1a5-4cc3-efca-e4dcc48dc5d4"
   },
   "outputs": [
    {
     "data": {
      "text/html": [
       "\n",
       "  <div id=\"df-48a36505-dfeb-40b6-ad72-ba3ebd8766c8\">\n",
       "    <div class=\"colab-df-container\">\n",
       "      <div>\n",
       "<style scoped>\n",
       "    .dataframe tbody tr th:only-of-type {\n",
       "        vertical-align: middle;\n",
       "    }\n",
       "\n",
       "    .dataframe tbody tr th {\n",
       "        vertical-align: top;\n",
       "    }\n",
       "\n",
       "    .dataframe thead th {\n",
       "        text-align: right;\n",
       "    }\n",
       "</style>\n",
       "<table border=\"1\" class=\"dataframe\">\n",
       "  <thead>\n",
       "    <tr style=\"text-align: right;\">\n",
       "      <th></th>\n",
       "      <th>Administrative</th>\n",
       "      <th>Administrative_Duration</th>\n",
       "      <th>Informational</th>\n",
       "      <th>Informational_Duration</th>\n",
       "      <th>ProductRelated</th>\n",
       "      <th>ProductRelated_Duration</th>\n",
       "      <th>BounceRates</th>\n",
       "      <th>ExitRates</th>\n",
       "      <th>PageValues</th>\n",
       "      <th>SpecialDay</th>\n",
       "    </tr>\n",
       "  </thead>\n",
       "  <tbody>\n",
       "    <tr>\n",
       "      <th>count</th>\n",
       "      <td>12205.00</td>\n",
       "      <td>12205.00</td>\n",
       "      <td>12205.00</td>\n",
       "      <td>12205.00</td>\n",
       "      <td>12205.00</td>\n",
       "      <td>12205.00</td>\n",
       "      <td>1.22e+04</td>\n",
       "      <td>12205.00</td>\n",
       "      <td>12205.00</td>\n",
       "      <td>12205.00</td>\n",
       "    </tr>\n",
       "    <tr>\n",
       "      <th>mean</th>\n",
       "      <td>2.34</td>\n",
       "      <td>81.65</td>\n",
       "      <td>0.51</td>\n",
       "      <td>34.83</td>\n",
       "      <td>32.05</td>\n",
       "      <td>1206.98</td>\n",
       "      <td>2.04e-02</td>\n",
       "      <td>0.04</td>\n",
       "      <td>5.95</td>\n",
       "      <td>0.06</td>\n",
       "    </tr>\n",
       "    <tr>\n",
       "      <th>std</th>\n",
       "      <td>3.33</td>\n",
       "      <td>177.49</td>\n",
       "      <td>1.28</td>\n",
       "      <td>141.42</td>\n",
       "      <td>44.59</td>\n",
       "      <td>1919.60</td>\n",
       "      <td>4.53e-02</td>\n",
       "      <td>0.05</td>\n",
       "      <td>18.65</td>\n",
       "      <td>0.20</td>\n",
       "    </tr>\n",
       "    <tr>\n",
       "      <th>min</th>\n",
       "      <td>0.00</td>\n",
       "      <td>0.00</td>\n",
       "      <td>0.00</td>\n",
       "      <td>0.00</td>\n",
       "      <td>0.00</td>\n",
       "      <td>0.00</td>\n",
       "      <td>0.00e+00</td>\n",
       "      <td>0.00</td>\n",
       "      <td>0.00</td>\n",
       "      <td>0.00</td>\n",
       "    </tr>\n",
       "    <tr>\n",
       "      <th>25%</th>\n",
       "      <td>0.00</td>\n",
       "      <td>0.00</td>\n",
       "      <td>0.00</td>\n",
       "      <td>0.00</td>\n",
       "      <td>8.00</td>\n",
       "      <td>193.00</td>\n",
       "      <td>0.00e+00</td>\n",
       "      <td>0.01</td>\n",
       "      <td>0.00</td>\n",
       "      <td>0.00</td>\n",
       "    </tr>\n",
       "    <tr>\n",
       "      <th>50%</th>\n",
       "      <td>1.00</td>\n",
       "      <td>9.00</td>\n",
       "      <td>0.00</td>\n",
       "      <td>0.00</td>\n",
       "      <td>18.00</td>\n",
       "      <td>608.94</td>\n",
       "      <td>2.90e-03</td>\n",
       "      <td>0.03</td>\n",
       "      <td>0.00</td>\n",
       "      <td>0.00</td>\n",
       "    </tr>\n",
       "    <tr>\n",
       "      <th>75%</th>\n",
       "      <td>4.00</td>\n",
       "      <td>94.70</td>\n",
       "      <td>0.00</td>\n",
       "      <td>0.00</td>\n",
       "      <td>38.00</td>\n",
       "      <td>1477.15</td>\n",
       "      <td>1.67e-02</td>\n",
       "      <td>0.05</td>\n",
       "      <td>0.00</td>\n",
       "      <td>0.00</td>\n",
       "    </tr>\n",
       "    <tr>\n",
       "      <th>max</th>\n",
       "      <td>27.00</td>\n",
       "      <td>3398.75</td>\n",
       "      <td>24.00</td>\n",
       "      <td>2549.38</td>\n",
       "      <td>705.00</td>\n",
       "      <td>63973.52</td>\n",
       "      <td>2.00e-01</td>\n",
       "      <td>0.20</td>\n",
       "      <td>361.76</td>\n",
       "      <td>1.00</td>\n",
       "    </tr>\n",
       "  </tbody>\n",
       "</table>\n",
       "</div>\n",
       "      <button class=\"colab-df-convert\" onclick=\"convertToInteractive('df-48a36505-dfeb-40b6-ad72-ba3ebd8766c8')\"\n",
       "              title=\"Convert this dataframe to an interactive table.\"\n",
       "              style=\"display:none;\">\n",
       "        \n",
       "  <svg xmlns=\"http://www.w3.org/2000/svg\" height=\"24px\"viewBox=\"0 0 24 24\"\n",
       "       width=\"24px\">\n",
       "    <path d=\"M0 0h24v24H0V0z\" fill=\"none\"/>\n",
       "    <path d=\"M18.56 5.44l.94 2.06.94-2.06 2.06-.94-2.06-.94-.94-2.06-.94 2.06-2.06.94zm-11 1L8.5 8.5l.94-2.06 2.06-.94-2.06-.94L8.5 2.5l-.94 2.06-2.06.94zm10 10l.94 2.06.94-2.06 2.06-.94-2.06-.94-.94-2.06-.94 2.06-2.06.94z\"/><path d=\"M17.41 7.96l-1.37-1.37c-.4-.4-.92-.59-1.43-.59-.52 0-1.04.2-1.43.59L10.3 9.45l-7.72 7.72c-.78.78-.78 2.05 0 2.83L4 21.41c.39.39.9.59 1.41.59.51 0 1.02-.2 1.41-.59l7.78-7.78 2.81-2.81c.8-.78.8-2.07 0-2.86zM5.41 20L4 18.59l7.72-7.72 1.47 1.35L5.41 20z\"/>\n",
       "  </svg>\n",
       "      </button>\n",
       "      \n",
       "  <style>\n",
       "    .colab-df-container {\n",
       "      display:flex;\n",
       "      flex-wrap:wrap;\n",
       "      gap: 12px;\n",
       "    }\n",
       "\n",
       "    .colab-df-convert {\n",
       "      background-color: #E8F0FE;\n",
       "      border: none;\n",
       "      border-radius: 50%;\n",
       "      cursor: pointer;\n",
       "      display: none;\n",
       "      fill: #1967D2;\n",
       "      height: 32px;\n",
       "      padding: 0 0 0 0;\n",
       "      width: 32px;\n",
       "    }\n",
       "\n",
       "    .colab-df-convert:hover {\n",
       "      background-color: #E2EBFA;\n",
       "      box-shadow: 0px 1px 2px rgba(60, 64, 67, 0.3), 0px 1px 3px 1px rgba(60, 64, 67, 0.15);\n",
       "      fill: #174EA6;\n",
       "    }\n",
       "\n",
       "    [theme=dark] .colab-df-convert {\n",
       "      background-color: #3B4455;\n",
       "      fill: #D2E3FC;\n",
       "    }\n",
       "\n",
       "    [theme=dark] .colab-df-convert:hover {\n",
       "      background-color: #434B5C;\n",
       "      box-shadow: 0px 1px 3px 1px rgba(0, 0, 0, 0.15);\n",
       "      filter: drop-shadow(0px 1px 2px rgba(0, 0, 0, 0.3));\n",
       "      fill: #FFFFFF;\n",
       "    }\n",
       "  </style>\n",
       "\n",
       "      <script>\n",
       "        const buttonEl =\n",
       "          document.querySelector('#df-48a36505-dfeb-40b6-ad72-ba3ebd8766c8 button.colab-df-convert');\n",
       "        buttonEl.style.display =\n",
       "          google.colab.kernel.accessAllowed ? 'block' : 'none';\n",
       "\n",
       "        async function convertToInteractive(key) {\n",
       "          const element = document.querySelector('#df-48a36505-dfeb-40b6-ad72-ba3ebd8766c8');\n",
       "          const dataTable =\n",
       "            await google.colab.kernel.invokeFunction('convertToInteractive',\n",
       "                                                     [key], {});\n",
       "          if (!dataTable) return;\n",
       "\n",
       "          const docLinkHtml = 'Like what you see? Visit the ' +\n",
       "            '<a target=\"_blank\" href=https://colab.research.google.com/notebooks/data_table.ipynb>data table notebook</a>'\n",
       "            + ' to learn more about interactive tables.';\n",
       "          element.innerHTML = '';\n",
       "          dataTable['output_type'] = 'display_data';\n",
       "          await google.colab.output.renderOutput(dataTable, element);\n",
       "          const docLink = document.createElement('div');\n",
       "          docLink.innerHTML = docLinkHtml;\n",
       "          element.appendChild(docLink);\n",
       "        }\n",
       "      </script>\n",
       "    </div>\n",
       "  </div>\n",
       "  "
      ],
      "text/plain": [
       "       Administrative  Administrative_Duration  Informational  \\\n",
       "count        12205.00                 12205.00       12205.00   \n",
       "mean             2.34                    81.65           0.51   \n",
       "std              3.33                   177.49           1.28   \n",
       "min              0.00                     0.00           0.00   \n",
       "25%              0.00                     0.00           0.00   \n",
       "50%              1.00                     9.00           0.00   \n",
       "75%              4.00                    94.70           0.00   \n",
       "max             27.00                  3398.75          24.00   \n",
       "\n",
       "       Informational_Duration  ProductRelated  ProductRelated_Duration  \\\n",
       "count                12205.00        12205.00                 12205.00   \n",
       "mean                    34.83           32.05                  1206.98   \n",
       "std                    141.42           44.59                  1919.60   \n",
       "min                      0.00            0.00                     0.00   \n",
       "25%                      0.00            8.00                   193.00   \n",
       "50%                      0.00           18.00                   608.94   \n",
       "75%                      0.00           38.00                  1477.15   \n",
       "max                   2549.38          705.00                 63973.52   \n",
       "\n",
       "       BounceRates  ExitRates  PageValues  SpecialDay  \n",
       "count     1.22e+04   12205.00    12205.00    12205.00  \n",
       "mean      2.04e-02       0.04        5.95        0.06  \n",
       "std       4.53e-02       0.05       18.65        0.20  \n",
       "min       0.00e+00       0.00        0.00        0.00  \n",
       "25%       0.00e+00       0.01        0.00        0.00  \n",
       "50%       2.90e-03       0.03        0.00        0.00  \n",
       "75%       1.67e-02       0.05        0.00        0.00  \n",
       "max       2.00e-01       0.20      361.76        1.00  "
      ]
     },
     "execution_count": 319,
     "metadata": {},
     "output_type": "execute_result"
    }
   ],
   "source": [
    "data.describe()"
   ]
  },
  {
   "cell_type": "markdown",
   "metadata": {
    "id": "I9A9n3HplBAr"
   },
   "source": [
    "# **Exploratory Data Analysis (EDA)**"
   ]
  },
  {
   "cell_type": "markdown",
   "metadata": {
    "id": "EgPh0qKuU6DE"
   },
   "source": [
    "# **Univariate Analyses**"
   ]
  },
  {
   "cell_type": "markdown",
   "metadata": {
    "id": "lV8IxsKQOJao"
   },
   "source": [
    "# **An Analysis of the attribute Revenue**"
   ]
  },
  {
   "cell_type": "code",
   "execution_count": 320,
   "metadata": {
    "colab": {
     "base_uri": "https://localhost:8080/",
     "height": 506
    },
    "id": "qcoc7EFMR8Ij",
    "outputId": "10c65725-60a8-42f4-ae89-df3abc8dcb45"
   },
   "outputs": [
    {
     "data": {
      "image/png": "[encoded data removed]",
      "text/plain": [
       "<Figure size 720x504 with 1 Axes>"
      ]
     },
     "metadata": {
      "needs_background": "light"
     },
     "output_type": "display_data"
    }
   ],
   "source": [
    "ax = data['Revenue'].value_counts().plot(kind=\"bar\", figsize=(10,7),\n",
    "                                        color=\"lightblue\", fontsize=18)\n",
    "\n",
    "ax.set_alpha(0.8)\n",
    "ax.set_title(\"Distribution Of Sales on The eShop\", fontsize=18)\n",
    "ax.set_xlabel(\"Did Visitors Buy Or Not?\", fontsize=18);\n",
    "ax.set_ylabel(\"Count\", fontsize=18);\n",
    "\n",
    "\n",
    "# create a list to collect the plt.patches data\n",
    "totals = []\n",
    "\n",
    "# find the values and append to list\n",
    "for i in ax.patches:\n",
    "    totals.append(i.get_width())\n",
    "\n",
    "# set individual bar lables using above list\n",
    "total = sum(totals)\n",
    "\n",
    "# set individual bar lables using above list\n",
    "for i in ax.patches:\n",
    "    # get_width pulls left or right; get_y pushes up or down\n",
    "    ax.annotate(str(i.get_height()), (i.get_x() * 1.005, i.get_height() * 1.005), fontsize=13)\n"
   ]
  },
  {
   "cell_type": "markdown",
   "metadata": {
    "id": "F8NjVC9f6f7x"
   },
   "source": [
    "**Show Revenue (True/False) as percentage**"
   ]
  },
  {
   "cell_type": "code",
   "execution_count": 321,
   "metadata": {
    "colab": {
     "base_uri": "https://localhost:8080/"
    },
    "id": "VrF9yz45Ti6q",
    "outputId": "6c8ba6b3-6bb4-4fbd-b5c3-017fb0e81ed3"
   },
   "outputs": [
    {
     "name": "stdout",
     "output_type": "stream",
     "text": [
      "% Revenue False :  84.53\n"
     ]
    }
   ],
   "source": [
    "print(\"% Revenue False : \", round(10422/12330 * 100, 2)) "
   ]
  },
  {
   "cell_type": "code",
   "execution_count": 322,
   "metadata": {
    "colab": {
     "base_uri": "https://localhost:8080/"
    },
    "id": "M6GPYABdUQhc",
    "outputId": "fa30ff9c-cf1b-49fa-dbce-bba854ae9e0d"
   },
   "outputs": [
    {
     "name": "stdout",
     "output_type": "stream",
     "text": [
      "% Revenue True :  15.47\n"
     ]
    }
   ],
   "source": [
    "print(\"% Revenue True : \", round(1908/12330 * 100, 2)) "
   ]
  },
  {
   "cell_type": "markdown",
   "metadata": {
    "id": "qdUifNQJj6wX"
   },
   "source": [
    "**The distribution of visitors to the eshop who convert shows low total of conversion at only 15.5%. It is important to identify why and also to predict visitors who are not likely to convert because we could implement various stategies to entice them to convert such as offering discounts and showing them products similar to what they viewed but at better prices.**"
   ]
  },
  {
   "cell_type": "markdown",
   "metadata": {
    "id": "eFCxoQKvN5Iw"
   },
   "source": [
    "# **An analysis of the attribute VisitorType**"
   ]
  },
  {
   "cell_type": "code",
   "execution_count": 323,
   "metadata": {
    "colab": {
     "base_uri": "https://localhost:8080/",
     "height": 613
    },
    "id": "eyRVimNCUWfi",
    "outputId": "7abe5e77-4098-4df6-dce8-fa392f196795"
   },
   "outputs": [
    {
     "data": {
      "image/png": "[encoded data removed]",
      "text/plain": [
       "<Figure size 720x504 with 1 Axes>"
      ]
     },
     "metadata": {
      "needs_background": "light"
     },
     "output_type": "display_data"
    }
   ],
   "source": [
    "ax = data['VisitorType'].value_counts().plot(kind=\"bar\", figsize=(10,7),\n",
    "                                        color=\"lightblue\", fontsize=18)\n",
    "\n",
    "ax.set_alpha(0.8)\n",
    "ax.set_title(\"Distribution Of Types of Visitors To The eShop\", fontsize=18)\n",
    "ax.set_xlabel(\"Types of Visitors\", fontsize=18);\n",
    "ax.set_ylabel(\"Count\", fontsize=18);\n",
    "\n",
    "\n",
    "# create a list to collect the plt.patches data\n",
    "totals = []\n",
    "\n",
    "# find the values and append to list\n",
    "for i in ax.patches:\n",
    "    totals.append(i.get_width())\n",
    "\n",
    "# set individual bar lables using above list\n",
    "total = sum(totals)\n",
    "\n",
    "# set individual bar lables using above list\n",
    "for i in ax.patches:\n",
    "    # get_width pulls left or right; get_y pushes up or down\n",
    "    ax.annotate(str(i.get_height()), (i.get_x() * 1.005, i.get_height() * 1.005), fontsize=13)"
   ]
  },
  {
   "cell_type": "markdown",
   "metadata": {
    "id": "ENAulxkAWz90"
   },
   "source": [
    "**The percentages of visitors by type**"
   ]
  },
  {
   "cell_type": "code",
   "execution_count": 324,
   "metadata": {
    "colab": {
     "base_uri": "https://localhost:8080/"
    },
    "id": "wP6IeQBaL96g",
    "outputId": "4174c633-a8a9-45b9-d4ed-0b2ddedbaa14"
   },
   "outputs": [
    {
     "name": "stdout",
     "output_type": "stream",
     "text": [
      "% Returning Visitors :  85.57\n"
     ]
    }
   ],
   "source": [
    "print(\"% Returning Visitors : \", round(10551/12330*100, 2)) "
   ]
  },
  {
   "cell_type": "code",
   "execution_count": 325,
   "metadata": {
    "colab": {
     "base_uri": "https://localhost:8080/"
    },
    "id": "hsgC_INaMDIP",
    "outputId": "a1a596c2-5642-4d16-f368-ad70374d9020"
   },
   "outputs": [
    {
     "name": "stdout",
     "output_type": "stream",
     "text": [
      "% New Visitors :  13.74\n"
     ]
    }
   ],
   "source": [
    "print(\"% New Visitors : \", round(1694/12330*100, 2))"
   ]
  },
  {
   "cell_type": "code",
   "execution_count": 326,
   "metadata": {
    "colab": {
     "base_uri": "https://localhost:8080/"
    },
    "id": "-Ly-YPCvMLpB",
    "outputId": "017ec493-95ce-43aa-b041-b7a2851b5812"
   },
   "outputs": [
    {
     "name": "stdout",
     "output_type": "stream",
     "text": [
      "% Other Visitors :  0.69\n"
     ]
    }
   ],
   "source": [
    "print(\"% Other Visitors : \", round(85/12330*100, 2))"
   ]
  },
  {
   "cell_type": "markdown",
   "metadata": {
    "id": "P2j9vuPkl6Tj"
   },
   "source": [
    "**The number of Returning Visitors are high at 85.6% which shows that the website is performing enough to attract repeat visits. There are few issues that could be examined such as are visitors put off by the prices of Standards, are the Standards not meeting visistors' needs?**"
   ]
  },
  {
   "cell_type": "markdown",
   "metadata": {
    "id": "_8-rI13nOfNR"
   },
   "source": [
    "# **An Analysis of the attribute Traffic Type**"
   ]
  },
  {
   "cell_type": "code",
   "execution_count": 327,
   "metadata": {
    "colab": {
     "base_uri": "https://localhost:8080/",
     "height": 612
    },
    "id": "JAGWaKt-MPjx",
    "outputId": "d41c7a3c-ecd8-4729-e7ee-55116b52c16b"
   },
   "outputs": [
    {
     "data": {
      "image/png": "[encoded data removed]",
      "text/plain": [
       "<Figure size 720x504 with 1 Axes>"
      ]
     },
     "metadata": {
      "needs_background": "light"
     },
     "output_type": "display_data"
    }
   ],
   "source": [
    "ax = data['TrafficType'].value_counts().plot(kind=\"bar\", figsize=(10,7),\n",
    "                                        color=\"lightblue\", fontsize=18)\n",
    "\n",
    "ax.set_alpha(0.8)\n",
    "ax.set_title(\"Distribution Of Means by which Visitors enter The eShop\", fontsize=18)\n",
    "ax.set_xlabel(\"Types of Traffics\", fontsize=18);\n",
    "ax.set_ylabel(\"Count\", fontsize=18);\n",
    "\n",
    "\n",
    "# create a list to collect the plt.patches data\n",
    "totals = []\n",
    "\n",
    "# find the values and append to list\n",
    "for i in ax.patches:\n",
    "    totals.append(i.get_width())\n",
    "\n",
    "# set individual bar lables using above list\n",
    "total = sum(totals)\n",
    "\n",
    "# set individual bar lables using above list\n",
    "for i in ax.patches:\n",
    "    # get_width pulls left or right; get_y pushes up or down\n",
    "    ax.annotate(str(i.get_height()), (i.get_x() * 1.005, i.get_height() * 1.005), fontsize=13)"
   ]
  },
  {
   "cell_type": "markdown",
   "metadata": {
    "id": "9lBbs3CspVXf"
   },
   "source": [
    "**Direct visit to the website is highest. Visiting the eshop via sites such as Google search, Partner sites and Youtube are high. If a comparison of conversion via these means are also high then it would be best to increase advertising on these sites.**"
   ]
  },
  {
   "cell_type": "markdown",
   "metadata": {
    "id": "-J7l72foPLwf"
   },
   "source": [
    "# **An Analysis of attribute Region**"
   ]
  },
  {
   "cell_type": "code",
   "execution_count": 328,
   "metadata": {
    "colab": {
     "base_uri": "https://localhost:8080/",
     "height": 607
    },
    "id": "rrgPiQWAO3RB",
    "outputId": "95355ef5-c8db-403f-fd49-637364b16439"
   },
   "outputs": [
    {
     "data": {
      "image/png": "[encoded data removed]",
      "text/plain": [
       "<Figure size 720x504 with 1 Axes>"
      ]
     },
     "metadata": {
      "needs_background": "light"
     },
     "output_type": "display_data"
    }
   ],
   "source": [
    "ax = data['Region'].value_counts().plot(kind=\"bar\", figsize=(10,7),\n",
    "                                        color=\"lightblue\", fontsize=18)\n",
    "\n",
    "ax.set_alpha(0.8)\n",
    "ax.set_title(\"Distribution Of Visitors by Region\", fontsize=18)\n",
    "ax.set_xlabel(\"Regions\", fontsize=18);\n",
    "ax.set_ylabel(\"Count\", fontsize=18);\n",
    "\n",
    "\n",
    "# create a list to collect the plt.patches data\n",
    "totals = []\n",
    "\n",
    "# find the values and append to list\n",
    "for i in ax.patches:\n",
    "    totals.append(i.get_width())\n",
    "\n",
    "# set individual bar lables using above list\n",
    "total = sum(totals)\n",
    "\n",
    "# set individual bar lables using above list\n",
    "for i in ax.patches:\n",
    "    # get_width pulls left or right; get_y pushes up or down\n",
    "    ax.annotate(str(i.get_height()), (i.get_x() * 1.005, i.get_height() * 1.005), fontsize=13)"
   ]
  },
  {
   "cell_type": "markdown",
   "metadata": {
    "id": "4WWMk8iBqhF0"
   },
   "source": [
    "**Sales outside UK and EU are low, this could be related to the agreement between National Standards bodies which the Stakeholder explains, National Standards bodies do not actively sell International ISO standards within other countries because countries will have their own standards, though people globally can go to the eshop to buy ISOs. However, National Standards bodies such as BSI can actively sell its own BS Standards to other regions.**"
   ]
  },
  {
   "cell_type": "markdown",
   "metadata": {
    "id": "xfEn9ZjiPJkC"
   },
   "source": [
    "# **An Analysis of attribute Browser**"
   ]
  },
  {
   "cell_type": "code",
   "execution_count": 329,
   "metadata": {
    "colab": {
     "base_uri": "https://localhost:8080/",
     "height": 612
    },
    "id": "wjCVxg9bPzwx",
    "outputId": "634290b9-e73c-46c0-ebac-cfe1b3a28a05"
   },
   "outputs": [
    {
     "data": {
      "image/png": "[encoded data removed]",
      "text/plain": [
       "<Figure size 720x504 with 1 Axes>"
      ]
     },
     "metadata": {
      "needs_background": "light"
     },
     "output_type": "display_data"
    }
   ],
   "source": [
    "ax = data['Browser'].value_counts().plot(kind=\"bar\", figsize=(10,7),\n",
    "                                        color=\"lightblue\", fontsize=18)\n",
    "\n",
    "ax.set_alpha(0.8)\n",
    "ax.set_title(\"Distribution Of Visitors entering The eShop by Browser Type\", fontsize=18)\n",
    "ax.set_xlabel(\"Browsers\", fontsize=18);\n",
    "ax.set_ylabel(\"Count\", fontsize=18);\n",
    "\n",
    "\n",
    "# create a list to collect the plt.patches data\n",
    "totals = []\n",
    "\n",
    "# find the values and append to list\n",
    "for i in ax.patches:\n",
    "    totals.append(i.get_width())\n",
    "\n",
    "# set individual bar lables using above list\n",
    "total = sum(totals)\n",
    "\n",
    "# set individual bar lables using above list\n",
    "for i in ax.patches:\n",
    "    # get_width pulls left or right; get_y pushes up or down\n",
    "    ax.annotate(str(i.get_height()), (i.get_x() * 1.005, i.get_height() * 1.005), fontsize=13)"
   ]
  },
  {
   "cell_type": "markdown",
   "metadata": {
    "id": "bNUAJIGzrFHP"
   },
   "source": [
    "**There are some browsers which are popular among the general population and these are the browser which show as the top performing browsers for visitors to the eshop. Therefore, it appears the eshop is compatible with all browsers.**"
   ]
  },
  {
   "cell_type": "markdown",
   "metadata": {
    "id": "DLrcCxq1QFRR"
   },
   "source": [
    "# **An analysis of attribute Operating System**"
   ]
  },
  {
   "cell_type": "code",
   "execution_count": 330,
   "metadata": {
    "colab": {
     "base_uri": "https://localhost:8080/",
     "height": 607
    },
    "id": "WK6Q6VZaP_Vh",
    "outputId": "dc88b750-b642-4865-8be5-69661151893e"
   },
   "outputs": [
    {
     "data": {
      "image/png": "[encoded data removed]",
      "text/plain": [
       "<Figure size 720x504 with 1 Axes>"
      ]
     },
     "metadata": {
      "needs_background": "light"
     },
     "output_type": "display_data"
    }
   ],
   "source": [
    "ax = data['OperatingSystems'].value_counts().plot(kind=\"bar\", figsize=(10,7),\n",
    "                                        color=\"lightblue\", fontsize=18)\n",
    "\n",
    "ax.set_alpha(0.8)\n",
    "ax.set_title(\"Distribution Of Visitors entering The eShop by Operating System\", fontsize=18)\n",
    "ax.set_xlabel(\"Operating Systems\", fontsize=18);\n",
    "ax.set_ylabel(\"Count\", fontsize=18);\n",
    "\n",
    "\n",
    "# create a list to collect the plt.patches data\n",
    "totals = []\n",
    "\n",
    "# find the values and append to list\n",
    "for i in ax.patches:\n",
    "    totals.append(i.get_width())\n",
    "\n",
    "# set individual bar lables using above list\n",
    "total = sum(totals)\n",
    "\n",
    "# set individual bar lables using above list\n",
    "for i in ax.patches:\n",
    "    # get_width pulls left or right; get_y pushes up or down\n",
    "    ax.annotate(str(i.get_height()), (i.get_x() * 1.005, i.get_height() * 1.005), fontsize=13)"
   ]
  },
  {
   "cell_type": "markdown",
   "metadata": {
    "id": "xaGP3Ly6sD4o"
   },
   "source": [
    "**There are some Operating Systems which are popular among the general population and these are the Operating Systems which show as the top performing Operating Systems for visitors to the eshop. Therefore, it appears the eshop is compatible with all Operating Systems.**"
   ]
  },
  {
   "cell_type": "markdown",
   "metadata": {
    "id": "umccYpFNNJpT"
   },
   "source": [
    "# **An Analysis of attribute Month**"
   ]
  },
  {
   "cell_type": "code",
   "execution_count": 331,
   "metadata": {
    "colab": {
     "base_uri": "https://localhost:8080/",
     "height": 555
    },
    "id": "nLjQcRdWNHhA",
    "outputId": "f022759c-6a9e-4bdb-ec63-2e49b5886d59"
   },
   "outputs": [
    {
     "data": {
      "image/png": "[encoded data removed]",
      "text/plain": [
       "<Figure size 720x504 with 1 Axes>"
      ]
     },
     "metadata": {
      "needs_background": "light"
     },
     "output_type": "display_data"
    }
   ],
   "source": [
    "ax = data['Month'].value_counts().plot(kind=\"bar\", figsize=(10,7),\n",
    "                                        color=\"lightblue\", fontsize=18)\n",
    "\n",
    "ax.set_alpha(0.8)\n",
    "ax.set_title(\"Distribution Of Visitors entering The eShop by Month\", fontsize=18)\n",
    "ax.set_xlabel(\"Months\", fontsize=18);\n",
    "ax.set_ylabel(\"Count\", fontsize=18);\n",
    "\n",
    "\n",
    "# create a list to collect the plt.patches data\n",
    "totals = []\n",
    "\n",
    "# find the values and append to list\n",
    "for i in ax.patches:\n",
    "    totals.append(i.get_width())\n",
    "\n",
    "# set individual bar lables using above list\n",
    "total = sum(totals)\n",
    "\n",
    "# set individual bar lables using above list\n",
    "for i in ax.patches:\n",
    "    # get_width pulls left or right; get_y pushes up or down\n",
    "    ax.annotate(str(i.get_height()), (i.get_x() * 1.005, i.get_height() * 1.005), fontsize=13)"
   ]
  },
  {
   "cell_type": "markdown",
   "metadata": {
    "id": "NXXtoCYysb6h"
   },
   "source": [
    "**There are some months which have higher numbers of visitors. but there appears to be no specific seasonal pattern.**"
   ]
  },
  {
   "cell_type": "markdown",
   "metadata": {
    "id": "qKGsA6EgVGCt"
   },
   "source": [
    "# **Bivariate Analyses**"
   ]
  },
  {
   "cell_type": "markdown",
   "metadata": {
    "id": "S4CNXMOqVLAr"
   },
   "source": [
    "# **An analysis of the attributes Revenue and VisitorType**"
   ]
  },
  {
   "cell_type": "code",
   "execution_count": 332,
   "metadata": {
    "colab": {
     "base_uri": "https://localhost:8080/",
     "height": 368
    },
    "id": "ljnIr_BKYW6e",
    "outputId": "95bc9371-91e0-4576-b62c-47c2d8b9f3fc"
   },
   "outputs": [
    {
     "data": {
      "text/plain": [
       "[Text(0.5, 1.0, 'Revevue and VisitorType')]"
      ]
     },
     "execution_count": 332,
     "metadata": {},
     "output_type": "execute_result"
    },
    {
     "data": {
      "image/png": "[encoded data removed]",
      "text/plain": [
       "<Figure size 432x360 with 1 Axes>"
      ]
     },
     "metadata": {
      "needs_background": "light"
     },
     "output_type": "display_data"
    }
   ],
   "source": [
    "fig_dims = (6, 5)\n",
    "fig, ax = plt.subplots(figsize=fig_dims)\n",
    "sns.countplot(data=data,x='VisitorType',hue='Revenue').set(title='Revevue and VisitorType')"
   ]
  },
  {
   "cell_type": "markdown",
   "metadata": {
    "id": "FP3H0MOITyzD"
   },
   "source": [
    "# **An analysis of the attributes Revenue and Month**"
   ]
  },
  {
   "cell_type": "code",
   "execution_count": 333,
   "metadata": {
    "colab": {
     "base_uri": "https://localhost:8080/",
     "height": 351
    },
    "id": "a5b-1dpoT_vo",
    "outputId": "b93f83a5-e605-417c-a858-30780c75c7d9"
   },
   "outputs": [
    {
     "data": {
      "text/plain": [
       "<matplotlib.axes._subplots.AxesSubplot at 0x7f94e5212050>"
      ]
     },
     "execution_count": 333,
     "metadata": {},
     "output_type": "execute_result"
    },
    {
     "data": {
      "image/png": "[encoded data removed]",
      "text/plain": [
       "<Figure size 864x360 with 1 Axes>"
      ]
     },
     "metadata": {
      "needs_background": "light"
     },
     "output_type": "display_data"
    }
   ],
   "source": [
    "fig_dims = (12, 5)\n",
    "fig, ax = plt.subplots(figsize=fig_dims)\n",
    "sns.countplot(data=data,x='Month',hue='Revenue', ax=ax)"
   ]
  },
  {
   "cell_type": "markdown",
   "metadata": {
    "id": "2_gHSK9S7HnB"
   },
   "source": [
    "# **An analysis of the attributes Revenue and Browser**"
   ]
  },
  {
   "cell_type": "code",
   "execution_count": 334,
   "metadata": {
    "colab": {
     "base_uri": "https://localhost:8080/",
     "height": 296
    },
    "id": "tzd_DKk47JGQ",
    "outputId": "03d04daf-11c5-4c4d-a4f9-d913d6da9432"
   },
   "outputs": [
    {
     "data": {
      "text/plain": [
       "<matplotlib.axes._subplots.AxesSubplot at 0x7f94e5142610>"
      ]
     },
     "execution_count": 334,
     "metadata": {},
     "output_type": "execute_result"
    },
    {
     "data": {
      "image/png": "[encoded data removed]",
      "text/plain": [
       "<Figure size 1296x288 with 1 Axes>"
      ]
     },
     "metadata": {
      "needs_background": "light"
     },
     "output_type": "display_data"
    }
   ],
   "source": [
    "fig_dims = (18, 4)\n",
    "fig, ax = plt.subplots(figsize=fig_dims)\n",
    "sns.countplot(data=data,x='Browser',hue='Revenue', ax=ax)"
   ]
  },
  {
   "cell_type": "markdown",
   "metadata": {
    "id": "gkrluRaK7Kfm"
   },
   "source": [
    "# **An analysis of Revenue and TrafficType**"
   ]
  },
  {
   "cell_type": "code",
   "execution_count": 335,
   "metadata": {
    "colab": {
     "base_uri": "https://localhost:8080/",
     "height": 296
    },
    "id": "5fjCD6Iz7MBH",
    "outputId": "72574e6c-0b91-4bb0-ddf3-fcbf19e79497"
   },
   "outputs": [
    {
     "data": {
      "text/plain": [
       "<matplotlib.axes._subplots.AxesSubplot at 0x7f94e50a16d0>"
      ]
     },
     "execution_count": 335,
     "metadata": {},
     "output_type": "execute_result"
    },
    {
     "data": {
      "image/png": "[encoded data removed]",
      "text/plain": [
       "<Figure size 1440x288 with 1 Axes>"
      ]
     },
     "metadata": {
      "needs_background": "light"
     },
     "output_type": "display_data"
    }
   ],
   "source": [
    "fig_dims = (20, 4)\n",
    "fig, ax = plt.subplots(figsize=fig_dims)\n",
    "sns.countplot(data=data,x='TrafficType',hue='Revenue', ax=ax)"
   ]
  },
  {
   "cell_type": "markdown",
   "metadata": {
    "id": "Jgr9V2xkBRkY"
   },
   "source": [
    "# **An analysis of Revenue and Region**"
   ]
  },
  {
   "cell_type": "code",
   "execution_count": 336,
   "metadata": {
    "colab": {
     "base_uri": "https://localhost:8080/",
     "height": 296
    },
    "id": "SwHoqrutBSlh",
    "outputId": "d74a1a3a-8888-4cd5-d845-864c2ffa960f"
   },
   "outputs": [
    {
     "data": {
      "text/plain": [
       "<matplotlib.axes._subplots.AxesSubplot at 0x7f94e4fda2d0>"
      ]
     },
     "execution_count": 336,
     "metadata": {},
     "output_type": "execute_result"
    },
    {
     "data": {
      "image/png": "[encoded data removed]",
      "text/plain": [
       "<Figure size 1296x288 with 1 Axes>"
      ]
     },
     "metadata": {
      "needs_background": "light"
     },
     "output_type": "display_data"
    }
   ],
   "source": [
    "fig_dims = (18, 4)\n",
    "fig, ax = plt.subplots(figsize=fig_dims)\n",
    "sns.countplot(data=data,x='Region',hue='Revenue', ax=ax)"
   ]
  },
  {
   "cell_type": "markdown",
   "metadata": {
    "id": "dKyokKOJOWKF"
   },
   "source": [
    "## **DATA PREPARATION/PREPROCESSING**"
   ]
  },
  {
   "cell_type": "markdown",
   "metadata": {
    "id": "vAOxMR6E9LW-"
   },
   "source": [
    "# **Examining the dataset for correlation/dependency between attributes**\n"
   ]
  },
  {
   "cell_type": "code",
   "execution_count": 336,
   "metadata": {
    "id": "vWN8DFaZusLb"
   },
   "outputs": [],
   "source": [
    " "
   ]
  },
  {
   "cell_type": "markdown",
   "metadata": {
    "id": "U1K_CCaUrUaL"
   },
   "source": [
    "**What is correlation?**\n",
    "\n",
    "Corelation is a metric that indicates to us how related or dependent two columns are to each other.\n",
    "\n",
    "For example if we have column A and column B with a high correlation, for ecample +/- 1 or close to this figure, this tell me that A and B are directly related to each other. So if a value in A increases/decreases then value in B also increases/decreases.\n",
    "\n",
    "If two columns are correlated either + or -, we can drop one of the column from our dataset. This is because both columns will not contribute much to the model.\n",
    "\n",
    "So from our correlation chart we see that the following are correlated:\n",
    "\n",
    "ExitRates and BounceRates at 0.91\n",
    "\n",
    "ProductRelated_Duration and ProductRelated at 0.86\n",
    "\n",
    "Informational and Informational_duration at 0.62\n",
    "\n",
    "This is as expected because the longer a visitirs remains on a ProductRelated or Information webpage of the eshop the more the durations will increase. Also if exit rate is high then it is likely that most of these might be bounces. "
   ]
  },
  {
   "cell_type": "code",
   "execution_count": 337,
   "metadata": {
    "colab": {
     "base_uri": "https://localhost:8080/",
     "height": 835
    },
    "id": "FxAVZS-J9SM4",
    "outputId": "af25d293-aade-4934-c537-fb439a247dd7"
   },
   "outputs": [
    {
     "data": {
      "text/plain": [
       "<matplotlib.axes._subplots.AxesSubplot at 0x7f94e4eb7e90>"
      ]
     },
     "execution_count": 337,
     "metadata": {},
     "output_type": "execute_result"
    },
    {
     "data": {
      "image/png": "[encoded data removed]",
      "text/plain": [
       "<Figure size 864x864 with 2 Axes>"
      ]
     },
     "metadata": {
      "needs_background": "light"
     },
     "output_type": "display_data"
    }
   ],
   "source": [
    "plt.figure(figsize=(12,12))\n",
    "sns.heatmap(data.corr(), annot=True,cmap='viridis',linewidths=1)"
   ]
  },
  {
   "cell_type": "markdown",
   "metadata": {
    "id": "UsZHfip59f10"
   },
   "source": [
    "# **Dropping one of a set of two correlated columns/attributes**"
   ]
  },
  {
   "cell_type": "code",
   "execution_count": 338,
   "metadata": {
    "id": "58Dsr-sN9lWb"
   },
   "outputs": [],
   "source": [
    "#drop some columns that are correlated with others and will not add anything to the model\n",
    "data_new = data.drop(['Administrative', 'Informational', 'ProductRelated_Duration'], axis=1)"
   ]
  },
  {
   "cell_type": "code",
   "execution_count": 339,
   "metadata": {
    "colab": {
     "base_uri": "https://localhost:8080/",
     "height": 206
    },
    "id": "QyWcqZoQ-B7D",
    "outputId": "57f56ab9-995d-4362-c57d-c1b5e918994f"
   },
   "outputs": [
    {
     "data": {
      "text/html": [
       "\n",
       "  <div id=\"df-0cad0760-5d27-4c97-8fb7-afe7f1160132\">\n",
       "    <div class=\"colab-df-container\">\n",
       "      <div>\n",
       "<style scoped>\n",
       "    .dataframe tbody tr th:only-of-type {\n",
       "        vertical-align: middle;\n",
       "    }\n",
       "\n",
       "    .dataframe tbody tr th {\n",
       "        vertical-align: top;\n",
       "    }\n",
       "\n",
       "    .dataframe thead th {\n",
       "        text-align: right;\n",
       "    }\n",
       "</style>\n",
       "<table border=\"1\" class=\"dataframe\">\n",
       "  <thead>\n",
       "    <tr style=\"text-align: right;\">\n",
       "      <th></th>\n",
       "      <th>Administrative_Duration</th>\n",
       "      <th>Informational_Duration</th>\n",
       "      <th>ProductRelated</th>\n",
       "      <th>BounceRates</th>\n",
       "      <th>ExitRates</th>\n",
       "      <th>PageValues</th>\n",
       "      <th>SpecialDay</th>\n",
       "      <th>Month</th>\n",
       "      <th>OperatingSystems</th>\n",
       "      <th>Browser</th>\n",
       "      <th>Region</th>\n",
       "      <th>TrafficType</th>\n",
       "      <th>VisitorType</th>\n",
       "      <th>Weekend</th>\n",
       "      <th>Revenue</th>\n",
       "    </tr>\n",
       "  </thead>\n",
       "  <tbody>\n",
       "    <tr>\n",
       "      <th>0</th>\n",
       "      <td>0.0</td>\n",
       "      <td>0.0</td>\n",
       "      <td>1</td>\n",
       "      <td>0.20</td>\n",
       "      <td>0.20</td>\n",
       "      <td>0.0</td>\n",
       "      <td>0.0</td>\n",
       "      <td>Feb, 2016</td>\n",
       "      <td>Macintosh</td>\n",
       "      <td>Safari</td>\n",
       "      <td>European Union</td>\n",
       "      <td>Google</td>\n",
       "      <td>Returning_Visitor</td>\n",
       "      <td>False</td>\n",
       "      <td>False</td>\n",
       "    </tr>\n",
       "    <tr>\n",
       "      <th>1</th>\n",
       "      <td>0.0</td>\n",
       "      <td>0.0</td>\n",
       "      <td>2</td>\n",
       "      <td>0.00</td>\n",
       "      <td>0.10</td>\n",
       "      <td>0.0</td>\n",
       "      <td>0.0</td>\n",
       "      <td>Feb, 2016</td>\n",
       "      <td>Macintosh</td>\n",
       "      <td>Chrome</td>\n",
       "      <td>European Union</td>\n",
       "      <td>Direct</td>\n",
       "      <td>Returning_Visitor</td>\n",
       "      <td>False</td>\n",
       "      <td>False</td>\n",
       "    </tr>\n",
       "    <tr>\n",
       "      <th>2</th>\n",
       "      <td>0.0</td>\n",
       "      <td>0.0</td>\n",
       "      <td>1</td>\n",
       "      <td>0.20</td>\n",
       "      <td>0.20</td>\n",
       "      <td>0.0</td>\n",
       "      <td>0.0</td>\n",
       "      <td>Feb, 2016</td>\n",
       "      <td>iOS</td>\n",
       "      <td>Safari</td>\n",
       "      <td>Easter Europe</td>\n",
       "      <td>Partners</td>\n",
       "      <td>Returning_Visitor</td>\n",
       "      <td>False</td>\n",
       "      <td>False</td>\n",
       "    </tr>\n",
       "    <tr>\n",
       "      <th>3</th>\n",
       "      <td>0.0</td>\n",
       "      <td>0.0</td>\n",
       "      <td>2</td>\n",
       "      <td>0.05</td>\n",
       "      <td>0.14</td>\n",
       "      <td>0.0</td>\n",
       "      <td>0.0</td>\n",
       "      <td>Feb, 2016</td>\n",
       "      <td>Android</td>\n",
       "      <td>Chrome</td>\n",
       "      <td>North America</td>\n",
       "      <td>Youtube</td>\n",
       "      <td>Returning_Visitor</td>\n",
       "      <td>False</td>\n",
       "      <td>False</td>\n",
       "    </tr>\n",
       "    <tr>\n",
       "      <th>4</th>\n",
       "      <td>0.0</td>\n",
       "      <td>0.0</td>\n",
       "      <td>10</td>\n",
       "      <td>0.02</td>\n",
       "      <td>0.05</td>\n",
       "      <td>0.0</td>\n",
       "      <td>0.0</td>\n",
       "      <td>Feb, 2016</td>\n",
       "      <td>Android</td>\n",
       "      <td>UC Browser</td>\n",
       "      <td>European Union</td>\n",
       "      <td>Youtube</td>\n",
       "      <td>Returning_Visitor</td>\n",
       "      <td>True</td>\n",
       "      <td>False</td>\n",
       "    </tr>\n",
       "  </tbody>\n",
       "</table>\n",
       "</div>\n",
       "      <button class=\"colab-df-convert\" onclick=\"convertToInteractive('df-0cad0760-5d27-4c97-8fb7-afe7f1160132')\"\n",
       "              title=\"Convert this dataframe to an interactive table.\"\n",
       "              style=\"display:none;\">\n",
       "        \n",
       "  <svg xmlns=\"http://www.w3.org/2000/svg\" height=\"24px\"viewBox=\"0 0 24 24\"\n",
       "       width=\"24px\">\n",
       "    <path d=\"M0 0h24v24H0V0z\" fill=\"none\"/>\n",
       "    <path d=\"M18.56 5.44l.94 2.06.94-2.06 2.06-.94-2.06-.94-.94-2.06-.94 2.06-2.06.94zm-11 1L8.5 8.5l.94-2.06 2.06-.94-2.06-.94L8.5 2.5l-.94 2.06-2.06.94zm10 10l.94 2.06.94-2.06 2.06-.94-2.06-.94-.94-2.06-.94 2.06-2.06.94z\"/><path d=\"M17.41 7.96l-1.37-1.37c-.4-.4-.92-.59-1.43-.59-.52 0-1.04.2-1.43.59L10.3 9.45l-7.72 7.72c-.78.78-.78 2.05 0 2.83L4 21.41c.39.39.9.59 1.41.59.51 0 1.02-.2 1.41-.59l7.78-7.78 2.81-2.81c.8-.78.8-2.07 0-2.86zM5.41 20L4 18.59l7.72-7.72 1.47 1.35L5.41 20z\"/>\n",
       "  </svg>\n",
       "      </button>\n",
       "      \n",
       "  <style>\n",
       "    .colab-df-container {\n",
       "      display:flex;\n",
       "      flex-wrap:wrap;\n",
       "      gap: 12px;\n",
       "    }\n",
       "\n",
       "    .colab-df-convert {\n",
       "      background-color: #E8F0FE;\n",
       "      border: none;\n",
       "      border-radius: 50%;\n",
       "      cursor: pointer;\n",
       "      display: none;\n",
       "      fill: #1967D2;\n",
       "      height: 32px;\n",
       "      padding: 0 0 0 0;\n",
       "      width: 32px;\n",
       "    }\n",
       "\n",
       "    .colab-df-convert:hover {\n",
       "      background-color: #E2EBFA;\n",
       "      box-shadow: 0px 1px 2px rgba(60, 64, 67, 0.3), 0px 1px 3px 1px rgba(60, 64, 67, 0.15);\n",
       "      fill: #174EA6;\n",
       "    }\n",
       "\n",
       "    [theme=dark] .colab-df-convert {\n",
       "      background-color: #3B4455;\n",
       "      fill: #D2E3FC;\n",
       "    }\n",
       "\n",
       "    [theme=dark] .colab-df-convert:hover {\n",
       "      background-color: #434B5C;\n",
       "      box-shadow: 0px 1px 3px 1px rgba(0, 0, 0, 0.15);\n",
       "      filter: drop-shadow(0px 1px 2px rgba(0, 0, 0, 0.3));\n",
       "      fill: #FFFFFF;\n",
       "    }\n",
       "  </style>\n",
       "\n",
       "      <script>\n",
       "        const buttonEl =\n",
       "          document.querySelector('#df-0cad0760-5d27-4c97-8fb7-afe7f1160132 button.colab-df-convert');\n",
       "        buttonEl.style.display =\n",
       "          google.colab.kernel.accessAllowed ? 'block' : 'none';\n",
       "\n",
       "        async function convertToInteractive(key) {\n",
       "          const element = document.querySelector('#df-0cad0760-5d27-4c97-8fb7-afe7f1160132');\n",
       "          const dataTable =\n",
       "            await google.colab.kernel.invokeFunction('convertToInteractive',\n",
       "                                                     [key], {});\n",
       "          if (!dataTable) return;\n",
       "\n",
       "          const docLinkHtml = 'Like what you see? Visit the ' +\n",
       "            '<a target=\"_blank\" href=https://colab.research.google.com/notebooks/data_table.ipynb>data table notebook</a>'\n",
       "            + ' to learn more about interactive tables.';\n",
       "          element.innerHTML = '';\n",
       "          dataTable['output_type'] = 'display_data';\n",
       "          await google.colab.output.renderOutput(dataTable, element);\n",
       "          const docLink = document.createElement('div');\n",
       "          docLink.innerHTML = docLinkHtml;\n",
       "          element.appendChild(docLink);\n",
       "        }\n",
       "      </script>\n",
       "    </div>\n",
       "  </div>\n",
       "  "
      ],
      "text/plain": [
       "   Administrative_Duration  Informational_Duration  ProductRelated  \\\n",
       "0                      0.0                     0.0               1   \n",
       "1                      0.0                     0.0               2   \n",
       "2                      0.0                     0.0               1   \n",
       "3                      0.0                     0.0               2   \n",
       "4                      0.0                     0.0              10   \n",
       "\n",
       "   BounceRates  ExitRates  PageValues  SpecialDay      Month OperatingSystems  \\\n",
       "0         0.20       0.20         0.0         0.0  Feb, 2016        Macintosh   \n",
       "1         0.00       0.10         0.0         0.0  Feb, 2016        Macintosh   \n",
       "2         0.20       0.20         0.0         0.0  Feb, 2016              iOS   \n",
       "3         0.05       0.14         0.0         0.0  Feb, 2016          Android   \n",
       "4         0.02       0.05         0.0         0.0  Feb, 2016          Android   \n",
       "\n",
       "      Browser          Region TrafficType        VisitorType  Weekend  Revenue  \n",
       "0      Safari  European Union      Google  Returning_Visitor    False    False  \n",
       "1      Chrome  European Union      Direct  Returning_Visitor    False    False  \n",
       "2      Safari   Easter Europe    Partners  Returning_Visitor    False    False  \n",
       "3      Chrome   North America     Youtube  Returning_Visitor    False    False  \n",
       "4  UC Browser  European Union     Youtube  Returning_Visitor     True    False  "
      ]
     },
     "execution_count": 339,
     "metadata": {},
     "output_type": "execute_result"
    }
   ],
   "source": [
    "#A view of the new set of columns after dropping some columns\n",
    "data_new.head()"
   ]
  },
  {
   "cell_type": "markdown",
   "metadata": {
    "id": "gtNqkIXG-SiX"
   },
   "source": [
    "# **Handling Non-numeric Columns and Categorical Columns**\n",
    "\n",
    "\n",
    "Now we want to see which attributes are categorical. Categorical data are hidden gems. If we are able to extract them we can find even more information from the data itself. They can help the model. Using all of these these hidden values that have been extracted will help the model to perform even better.\n",
    "\n",
    "From the analysis below, the categorical columns are: Month, OperatingSystems, Browser, VisitorTypes, Region, and TrafficTypes"
   ]
  },
  {
   "cell_type": "code",
   "execution_count": 340,
   "metadata": {
    "colab": {
     "base_uri": "https://localhost:8080/"
    },
    "id": "lhs-O1pF-FGp",
    "outputId": "1d89972c-8348-4923-9e84-64e37671d19f"
   },
   "outputs": [
    {
     "data": {
      "text/plain": [
       "May, 2016    3329\n",
       "Nov, 2016    2982\n",
       "Mar, 2016    1860\n",
       "Dec, 2016    1706\n",
       "Oct, 2016     549\n",
       "Sep, 2016     448\n",
       "Aug, 2016     433\n",
       "Jul, 2016     432\n",
       "Jun, 2016     285\n",
       "Feb, 2016     181\n",
       "Name: Month, dtype: int64"
      ]
     },
     "execution_count": 340,
     "metadata": {},
     "output_type": "execute_result"
    }
   ],
   "source": [
    "data_new['Month'].value_counts()"
   ]
  },
  {
   "cell_type": "code",
   "execution_count": 341,
   "metadata": {
    "colab": {
     "base_uri": "https://localhost:8080/"
    },
    "id": "yyDRftC1-nro",
    "outputId": "89165b3b-e87a-4fe3-8707-825893480c21"
   },
   "outputs": [
    {
     "data": {
      "text/plain": [
       "Windows           6540\n",
       "Macintosh         2550\n",
       "Android           2530\n",
       "iOS                478\n",
       "Linux               75\n",
       "Chrome OS           19\n",
       "Windows  Phone       7\n",
       "FreeBSD              6\n",
       "Name: OperatingSystems, dtype: int64"
      ]
     },
     "execution_count": 341,
     "metadata": {},
     "output_type": "execute_result"
    }
   ],
   "source": [
    "data_new['OperatingSystems'].value_counts()"
   ]
  },
  {
   "cell_type": "code",
   "execution_count": 342,
   "metadata": {
    "colab": {
     "base_uri": "https://localhost:8080/"
    },
    "id": "T3EYtwKA-ojl",
    "outputId": "47996921-cd46-4403-90b9-589fced7e3bc"
   },
   "outputs": [
    {
     "data": {
      "text/plain": [
       "Chrome               7883\n",
       "Safari               2427\n",
       "Firefox               731\n",
       "Internet Explorer     465\n",
       "Opera                 174\n",
       "Safari (in app)       163\n",
       "Opera Mini            135\n",
       "UC Browser            105\n",
       "Amazon Silk            56\n",
       "Edge                   48\n",
       "YaBrowser              11\n",
       "SeaMonkey               6\n",
       "Iron                    1\n",
       "Name: Browser, dtype: int64"
      ]
     },
     "execution_count": 342,
     "metadata": {},
     "output_type": "execute_result"
    }
   ],
   "source": [
    "data_new['Browser'].value_counts()"
   ]
  },
  {
   "cell_type": "code",
   "execution_count": 343,
   "metadata": {
    "colab": {
     "base_uri": "https://localhost:8080/"
    },
    "id": "UL9FAhd4_tvT",
    "outputId": "bb43f40a-3853-4862-e9fe-3c8ffa204899"
   },
   "outputs": [
    {
     "data": {
      "text/plain": [
       "European Union     4714\n",
       "Asia               2379\n",
       "Oceania            1171\n",
       "North America      1128\n",
       "South America       801\n",
       "Africa              758\n",
       "Easter Europe       505\n",
       "Central America     431\n",
       "Middle  East        318\n",
       "Name: Region, dtype: int64"
      ]
     },
     "execution_count": 343,
     "metadata": {},
     "output_type": "execute_result"
    }
   ],
   "source": [
    "data_new['Region'].value_counts()"
   ]
  },
  {
   "cell_type": "code",
   "execution_count": 344,
   "metadata": {
    "colab": {
     "base_uri": "https://localhost:8080/"
    },
    "id": "ccseRTQi_uTF",
    "outputId": "45ed9201-1c7b-4770-a3e2-49c4632013c7"
   },
   "outputs": [
    {
     "data": {
      "text/plain": [
       "Direct              3911\n",
       "Google              2388\n",
       "Partners            2013\n",
       "Youtube             1066\n",
       "Facebook             728\n",
       "dfa                  450\n",
       "etsi                 443\n",
       "mail.google          343\n",
       "yahoo                284\n",
       "quora                260\n",
       "gophergala           193\n",
       "reddit                40\n",
       "google.co.in          37\n",
       "sites.google.com      17\n",
       "mail.yahoo            13\n",
       "squishable            10\n",
       "phandroid.com          4\n",
       "google.co.jp           3\n",
       "google.co.za           1\n",
       "qiita                  1\n",
       "Name: TrafficType, dtype: int64"
      ]
     },
     "execution_count": 344,
     "metadata": {},
     "output_type": "execute_result"
    }
   ],
   "source": [
    "data_new['TrafficType'].value_counts()"
   ]
  },
  {
   "cell_type": "code",
   "execution_count": 345,
   "metadata": {
    "colab": {
     "base_uri": "https://localhost:8080/"
    },
    "id": "qnpB3_2V_uyj",
    "outputId": "38035173-0451-4b3e-b826-0f3848504a55"
   },
   "outputs": [
    {
     "data": {
      "text/plain": [
       "Returning_Visitor    10431\n",
       "New_Visitor           1693\n",
       "Other                   81\n",
       "Name: VisitorType, dtype: int64"
      ]
     },
     "execution_count": 345,
     "metadata": {},
     "output_type": "execute_result"
    }
   ],
   "source": [
    "data_new['VisitorType'].value_counts()"
   ]
  },
  {
   "cell_type": "code",
   "execution_count": 346,
   "metadata": {
    "colab": {
     "base_uri": "https://localhost:8080/"
    },
    "id": "QxXQhs6H_vL8",
    "outputId": "b173f4b0-1e40-438c-bd2c-07e6fa7c44b1"
   },
   "outputs": [
    {
     "data": {
      "text/plain": [
       "False    9346\n",
       "True     2859\n",
       "Name: Weekend, dtype: int64"
      ]
     },
     "execution_count": 346,
     "metadata": {},
     "output_type": "execute_result"
    }
   ],
   "source": [
    "data_new['Weekend'].value_counts()"
   ]
  },
  {
   "cell_type": "code",
   "execution_count": 347,
   "metadata": {
    "colab": {
     "base_uri": "https://localhost:8080/"
    },
    "id": "8-t9LmTA_voM",
    "outputId": "f99da7a0-09be-47be-fd2d-d38363ead8d0"
   },
   "outputs": [
    {
     "data": {
      "text/plain": [
       "False    10297\n",
       "True      1908\n",
       "Name: Revenue, dtype: int64"
      ]
     },
     "execution_count": 347,
     "metadata": {},
     "output_type": "execute_result"
    }
   ],
   "source": [
    "data_new['Revenue'].value_counts()"
   ]
  },
  {
   "cell_type": "markdown",
   "metadata": {
    "id": "SU8KVggItykm"
   },
   "source": [
    "# **Handling Non-Numeric Columns**\n",
    "\n",
    "Machine Learning algorithms only work with nemeric data. The categorical, Reveue, and Weekend columns are non-numeric.\n",
    "\n",
    "There are several ways to convert non-numeric columns.\n",
    "According to (https://pbpython.com/categorical-encoding.html), some of these methods are:\n",
    "\n",
    "1. Find and Replace\n",
    "2. Label Encoding\n",
    "3. One Hot Encoding\n",
    "4. Custom Binary Encoding\n"
   ]
  },
  {
   "cell_type": "markdown",
   "metadata": {
    "id": "PzExb6gvDQBV"
   },
   "source": [
    "# **Using One Hot Encoding to convert the VisitorType Column**"
   ]
  },
  {
   "cell_type": "code",
   "execution_count": 348,
   "metadata": {
    "id": "yrav_FVBAVUI"
   },
   "outputs": [],
   "source": [
    "#Use the function get_dummies and concat to convert the true and false in these categories to number. \n",
    "visitor = pd.get_dummies(data_new['VisitorType'])\n",
    "\n",
    "data_new_new = pd.concat([data_new, visitor], axis=1)"
   ]
  },
  {
   "cell_type": "code",
   "execution_count": 349,
   "metadata": {
    "colab": {
     "base_uri": "https://localhost:8080/",
     "height": 250
    },
    "id": "AxSQuMeGAVo3",
    "outputId": "edfed816-5590-4a40-8ece-8f3dabfab01b"
   },
   "outputs": [
    {
     "data": {
      "text/html": [
       "\n",
       "  <div id=\"df-f53cc05a-5756-4a2b-a755-ce6efbd296c1\">\n",
       "    <div class=\"colab-df-container\">\n",
       "      <div>\n",
       "<style scoped>\n",
       "    .dataframe tbody tr th:only-of-type {\n",
       "        vertical-align: middle;\n",
       "    }\n",
       "\n",
       "    .dataframe tbody tr th {\n",
       "        vertical-align: top;\n",
       "    }\n",
       "\n",
       "    .dataframe thead th {\n",
       "        text-align: right;\n",
       "    }\n",
       "</style>\n",
       "<table border=\"1\" class=\"dataframe\">\n",
       "  <thead>\n",
       "    <tr style=\"text-align: right;\">\n",
       "      <th></th>\n",
       "      <th>Administrative_Duration</th>\n",
       "      <th>Informational_Duration</th>\n",
       "      <th>ProductRelated</th>\n",
       "      <th>BounceRates</th>\n",
       "      <th>ExitRates</th>\n",
       "      <th>PageValues</th>\n",
       "      <th>SpecialDay</th>\n",
       "      <th>Month</th>\n",
       "      <th>OperatingSystems</th>\n",
       "      <th>Browser</th>\n",
       "      <th>Region</th>\n",
       "      <th>TrafficType</th>\n",
       "      <th>VisitorType</th>\n",
       "      <th>Weekend</th>\n",
       "      <th>Revenue</th>\n",
       "      <th>New_Visitor</th>\n",
       "      <th>Other</th>\n",
       "      <th>Returning_Visitor</th>\n",
       "    </tr>\n",
       "  </thead>\n",
       "  <tbody>\n",
       "    <tr>\n",
       "      <th>0</th>\n",
       "      <td>0.0</td>\n",
       "      <td>0.0</td>\n",
       "      <td>1</td>\n",
       "      <td>0.20</td>\n",
       "      <td>0.20</td>\n",
       "      <td>0.0</td>\n",
       "      <td>0.0</td>\n",
       "      <td>Feb, 2016</td>\n",
       "      <td>Macintosh</td>\n",
       "      <td>Safari</td>\n",
       "      <td>European Union</td>\n",
       "      <td>Google</td>\n",
       "      <td>Returning_Visitor</td>\n",
       "      <td>False</td>\n",
       "      <td>False</td>\n",
       "      <td>0</td>\n",
       "      <td>0</td>\n",
       "      <td>1</td>\n",
       "    </tr>\n",
       "    <tr>\n",
       "      <th>1</th>\n",
       "      <td>0.0</td>\n",
       "      <td>0.0</td>\n",
       "      <td>2</td>\n",
       "      <td>0.00</td>\n",
       "      <td>0.10</td>\n",
       "      <td>0.0</td>\n",
       "      <td>0.0</td>\n",
       "      <td>Feb, 2016</td>\n",
       "      <td>Macintosh</td>\n",
       "      <td>Chrome</td>\n",
       "      <td>European Union</td>\n",
       "      <td>Direct</td>\n",
       "      <td>Returning_Visitor</td>\n",
       "      <td>False</td>\n",
       "      <td>False</td>\n",
       "      <td>0</td>\n",
       "      <td>0</td>\n",
       "      <td>1</td>\n",
       "    </tr>\n",
       "    <tr>\n",
       "      <th>2</th>\n",
       "      <td>0.0</td>\n",
       "      <td>0.0</td>\n",
       "      <td>1</td>\n",
       "      <td>0.20</td>\n",
       "      <td>0.20</td>\n",
       "      <td>0.0</td>\n",
       "      <td>0.0</td>\n",
       "      <td>Feb, 2016</td>\n",
       "      <td>iOS</td>\n",
       "      <td>Safari</td>\n",
       "      <td>Easter Europe</td>\n",
       "      <td>Partners</td>\n",
       "      <td>Returning_Visitor</td>\n",
       "      <td>False</td>\n",
       "      <td>False</td>\n",
       "      <td>0</td>\n",
       "      <td>0</td>\n",
       "      <td>1</td>\n",
       "    </tr>\n",
       "    <tr>\n",
       "      <th>3</th>\n",
       "      <td>0.0</td>\n",
       "      <td>0.0</td>\n",
       "      <td>2</td>\n",
       "      <td>0.05</td>\n",
       "      <td>0.14</td>\n",
       "      <td>0.0</td>\n",
       "      <td>0.0</td>\n",
       "      <td>Feb, 2016</td>\n",
       "      <td>Android</td>\n",
       "      <td>Chrome</td>\n",
       "      <td>North America</td>\n",
       "      <td>Youtube</td>\n",
       "      <td>Returning_Visitor</td>\n",
       "      <td>False</td>\n",
       "      <td>False</td>\n",
       "      <td>0</td>\n",
       "      <td>0</td>\n",
       "      <td>1</td>\n",
       "    </tr>\n",
       "    <tr>\n",
       "      <th>4</th>\n",
       "      <td>0.0</td>\n",
       "      <td>0.0</td>\n",
       "      <td>10</td>\n",
       "      <td>0.02</td>\n",
       "      <td>0.05</td>\n",
       "      <td>0.0</td>\n",
       "      <td>0.0</td>\n",
       "      <td>Feb, 2016</td>\n",
       "      <td>Android</td>\n",
       "      <td>UC Browser</td>\n",
       "      <td>European Union</td>\n",
       "      <td>Youtube</td>\n",
       "      <td>Returning_Visitor</td>\n",
       "      <td>True</td>\n",
       "      <td>False</td>\n",
       "      <td>0</td>\n",
       "      <td>0</td>\n",
       "      <td>1</td>\n",
       "    </tr>\n",
       "  </tbody>\n",
       "</table>\n",
       "</div>\n",
       "      <button class=\"colab-df-convert\" onclick=\"convertToInteractive('df-f53cc05a-5756-4a2b-a755-ce6efbd296c1')\"\n",
       "              title=\"Convert this dataframe to an interactive table.\"\n",
       "              style=\"display:none;\">\n",
       "        \n",
       "  <svg xmlns=\"http://www.w3.org/2000/svg\" height=\"24px\"viewBox=\"0 0 24 24\"\n",
       "       width=\"24px\">\n",
       "    <path d=\"M0 0h24v24H0V0z\" fill=\"none\"/>\n",
       "    <path d=\"M18.56 5.44l.94 2.06.94-2.06 2.06-.94-2.06-.94-.94-2.06-.94 2.06-2.06.94zm-11 1L8.5 8.5l.94-2.06 2.06-.94-2.06-.94L8.5 2.5l-.94 2.06-2.06.94zm10 10l.94 2.06.94-2.06 2.06-.94-2.06-.94-.94-2.06-.94 2.06-2.06.94z\"/><path d=\"M17.41 7.96l-1.37-1.37c-.4-.4-.92-.59-1.43-.59-.52 0-1.04.2-1.43.59L10.3 9.45l-7.72 7.72c-.78.78-.78 2.05 0 2.83L4 21.41c.39.39.9.59 1.41.59.51 0 1.02-.2 1.41-.59l7.78-7.78 2.81-2.81c.8-.78.8-2.07 0-2.86zM5.41 20L4 18.59l7.72-7.72 1.47 1.35L5.41 20z\"/>\n",
       "  </svg>\n",
       "      </button>\n",
       "      \n",
       "  <style>\n",
       "    .colab-df-container {\n",
       "      display:flex;\n",
       "      flex-wrap:wrap;\n",
       "      gap: 12px;\n",
       "    }\n",
       "\n",
       "    .colab-df-convert {\n",
       "      background-color: #E8F0FE;\n",
       "      border: none;\n",
       "      border-radius: 50%;\n",
       "      cursor: pointer;\n",
       "      display: none;\n",
       "      fill: #1967D2;\n",
       "      height: 32px;\n",
       "      padding: 0 0 0 0;\n",
       "      width: 32px;\n",
       "    }\n",
       "\n",
       "    .colab-df-convert:hover {\n",
       "      background-color: #E2EBFA;\n",
       "      box-shadow: 0px 1px 2px rgba(60, 64, 67, 0.3), 0px 1px 3px 1px rgba(60, 64, 67, 0.15);\n",
       "      fill: #174EA6;\n",
       "    }\n",
       "\n",
       "    [theme=dark] .colab-df-convert {\n",
       "      background-color: #3B4455;\n",
       "      fill: #D2E3FC;\n",
       "    }\n",
       "\n",
       "    [theme=dark] .colab-df-convert:hover {\n",
       "      background-color: #434B5C;\n",
       "      box-shadow: 0px 1px 3px 1px rgba(0, 0, 0, 0.15);\n",
       "      filter: drop-shadow(0px 1px 2px rgba(0, 0, 0, 0.3));\n",
       "      fill: #FFFFFF;\n",
       "    }\n",
       "  </style>\n",
       "\n",
       "      <script>\n",
       "        const buttonEl =\n",
       "          document.querySelector('#df-f53cc05a-5756-4a2b-a755-ce6efbd296c1 button.colab-df-convert');\n",
       "        buttonEl.style.display =\n",
       "          google.colab.kernel.accessAllowed ? 'block' : 'none';\n",
       "\n",
       "        async function convertToInteractive(key) {\n",
       "          const element = document.querySelector('#df-f53cc05a-5756-4a2b-a755-ce6efbd296c1');\n",
       "          const dataTable =\n",
       "            await google.colab.kernel.invokeFunction('convertToInteractive',\n",
       "                                                     [key], {});\n",
       "          if (!dataTable) return;\n",
       "\n",
       "          const docLinkHtml = 'Like what you see? Visit the ' +\n",
       "            '<a target=\"_blank\" href=https://colab.research.google.com/notebooks/data_table.ipynb>data table notebook</a>'\n",
       "            + ' to learn more about interactive tables.';\n",
       "          element.innerHTML = '';\n",
       "          dataTable['output_type'] = 'display_data';\n",
       "          await google.colab.output.renderOutput(dataTable, element);\n",
       "          const docLink = document.createElement('div');\n",
       "          docLink.innerHTML = docLinkHtml;\n",
       "          element.appendChild(docLink);\n",
       "        }\n",
       "      </script>\n",
       "    </div>\n",
       "  </div>\n",
       "  "
      ],
      "text/plain": [
       "   Administrative_Duration  Informational_Duration  ProductRelated  \\\n",
       "0                      0.0                     0.0               1   \n",
       "1                      0.0                     0.0               2   \n",
       "2                      0.0                     0.0               1   \n",
       "3                      0.0                     0.0               2   \n",
       "4                      0.0                     0.0              10   \n",
       "\n",
       "   BounceRates  ExitRates  PageValues  SpecialDay      Month OperatingSystems  \\\n",
       "0         0.20       0.20         0.0         0.0  Feb, 2016        Macintosh   \n",
       "1         0.00       0.10         0.0         0.0  Feb, 2016        Macintosh   \n",
       "2         0.20       0.20         0.0         0.0  Feb, 2016              iOS   \n",
       "3         0.05       0.14         0.0         0.0  Feb, 2016          Android   \n",
       "4         0.02       0.05         0.0         0.0  Feb, 2016          Android   \n",
       "\n",
       "      Browser          Region TrafficType        VisitorType  Weekend  \\\n",
       "0      Safari  European Union      Google  Returning_Visitor    False   \n",
       "1      Chrome  European Union      Direct  Returning_Visitor    False   \n",
       "2      Safari   Easter Europe    Partners  Returning_Visitor    False   \n",
       "3      Chrome   North America     Youtube  Returning_Visitor    False   \n",
       "4  UC Browser  European Union     Youtube  Returning_Visitor     True   \n",
       "\n",
       "   Revenue  New_Visitor  Other  Returning_Visitor  \n",
       "0    False            0      0                  1  \n",
       "1    False            0      0                  1  \n",
       "2    False            0      0                  1  \n",
       "3    False            0      0                  1  \n",
       "4    False            0      0                  1  "
      ]
     },
     "execution_count": 349,
     "metadata": {},
     "output_type": "execute_result"
    }
   ],
   "source": [
    "data_new_new.head()"
   ]
  },
  {
   "cell_type": "markdown",
   "metadata": {
    "id": "YczfDWZsz465"
   },
   "source": [
    "# **Using convert astype(float) to convert the Revenue and Weekend columns**"
   ]
  },
  {
   "cell_type": "code",
   "execution_count": 350,
   "metadata": {
    "id": "GCjvQqVhEowr"
   },
   "outputs": [],
   "source": [
    "data_new_new['Weekend'] = data_new_new['Weekend'].astype(np.float32)"
   ]
  },
  {
   "cell_type": "code",
   "execution_count": 351,
   "metadata": {
    "id": "5IodyJzu_f6O"
   },
   "outputs": [],
   "source": [
    "data_new_new['Revenue'] = data_new_new['Revenue'].astype(np.float32)"
   ]
  },
  {
   "cell_type": "markdown",
   "metadata": {
    "id": "Pg7t6i-G03i0"
   },
   "source": [
    "# **Using pandas DateTimeIndex function to convert Months to a number**"
   ]
  },
  {
   "cell_type": "code",
   "execution_count": 352,
   "metadata": {
    "id": "eEde9UnSHWWN"
   },
   "outputs": [],
   "source": [
    "#tried converting month to float but there is an error so just drop month, for now\n",
    "data_new_new['Month'] = pd.DatetimeIndex(data_new_new['Month']).month"
   ]
  },
  {
   "cell_type": "markdown",
   "metadata": {
    "id": "uCqhnjDQ19Vq"
   },
   "source": [
    "# **Using Label Encoding to convert the columns: OperatingSystems, Browser, Region, TrafficType**\n",
    "\n",
    "In this method each categorical value in a column is converted to a number"
   ]
  },
  {
   "cell_type": "code",
   "execution_count": 353,
   "metadata": {
    "colab": {
     "base_uri": "https://localhost:8080/"
    },
    "id": "kBQYtBny1_Lg",
    "outputId": "bc2a0ea4-ae49-4e92-83b8-2f336f696ba3"
   },
   "outputs": [
    {
     "data": {
      "text/plain": [
       "Administrative_Duration     float64\n",
       "Informational_Duration      float64\n",
       "ProductRelated                int64\n",
       "BounceRates                 float64\n",
       "ExitRates                   float64\n",
       "PageValues                  float64\n",
       "SpecialDay                  float64\n",
       "Month                         int64\n",
       "OperatingSystems           category\n",
       "Browser                    category\n",
       "Region                     category\n",
       "TrafficType                category\n",
       "VisitorType                  object\n",
       "Weekend                     float32\n",
       "Revenue                     float32\n",
       "New_Visitor                   uint8\n",
       "Other                         uint8\n",
       "Returning_Visitor             uint8\n",
       "dtype: object"
      ]
     },
     "execution_count": 353,
     "metadata": {},
     "output_type": "execute_result"
    }
   ],
   "source": [
    "data_new_new[\"OperatingSystems\"] = data_new_new[\"OperatingSystems\"].astype('category')\n",
    "data_new_new.dtypes\n",
    "\n",
    "data_new_new[\"Browser\"] = data_new_new[\"Browser\"].astype('category')\n",
    "data_new_new.dtypes\n",
    "\n",
    "data_new_new[\"Region\"] = data_new_new[\"Region\"].astype('category')\n",
    "data_new_new.dtypes\n",
    "\n",
    "data_new_new[\"TrafficType\"] = data_new_new[\"TrafficType\"].astype('category')\n",
    "data_new_new.dtypes"
   ]
  },
  {
   "cell_type": "code",
   "execution_count": 354,
   "metadata": {
    "id": "DUxdl2Z05xWb"
   },
   "outputs": [],
   "source": [
    "data_new_new[\"OperatingSystems_cat\"] = data_new_new[\"OperatingSystems\"].cat.codes\n",
    "data_new_new[\"Browser_cat\"] = data_new_new[\"Browser\"].cat.codes\n",
    "data_new_new[\"Region_cat\"] = data_new_new[\"Region\"].cat.codes\n",
    "data_new_new[\"TrafficType_cat\"] = data_new_new[\"TrafficType\"].cat.codes"
   ]
  },
  {
   "cell_type": "markdown",
   "metadata": {
    "id": "kQrmhYQtxSv9"
   },
   "source": [
    "Display the first five rows to check that all columns were converted to numbers.\n",
    "The old columns are still present but these will be deleted."
   ]
  },
  {
   "cell_type": "code",
   "execution_count": 355,
   "metadata": {
    "colab": {
     "base_uri": "https://localhost:8080/",
     "height": 317
    },
    "id": "vB0UfZ5IJBIk",
    "outputId": "2852714e-fe07-4c9e-b953-d7e7042964ad"
   },
   "outputs": [
    {
     "data": {
      "text/html": [
       "\n",
       "  <div id=\"df-802bbfb1-2fe5-4309-9947-1ac066bb432f\">\n",
       "    <div class=\"colab-df-container\">\n",
       "      <div>\n",
       "<style scoped>\n",
       "    .dataframe tbody tr th:only-of-type {\n",
       "        vertical-align: middle;\n",
       "    }\n",
       "\n",
       "    .dataframe tbody tr th {\n",
       "        vertical-align: top;\n",
       "    }\n",
       "\n",
       "    .dataframe thead th {\n",
       "        text-align: right;\n",
       "    }\n",
       "</style>\n",
       "<table border=\"1\" class=\"dataframe\">\n",
       "  <thead>\n",
       "    <tr style=\"text-align: right;\">\n",
       "      <th></th>\n",
       "      <th>Administrative_Duration</th>\n",
       "      <th>Informational_Duration</th>\n",
       "      <th>ProductRelated</th>\n",
       "      <th>BounceRates</th>\n",
       "      <th>ExitRates</th>\n",
       "      <th>PageValues</th>\n",
       "      <th>SpecialDay</th>\n",
       "      <th>Month</th>\n",
       "      <th>OperatingSystems</th>\n",
       "      <th>Browser</th>\n",
       "      <th>...</th>\n",
       "      <th>VisitorType</th>\n",
       "      <th>Weekend</th>\n",
       "      <th>Revenue</th>\n",
       "      <th>New_Visitor</th>\n",
       "      <th>Other</th>\n",
       "      <th>Returning_Visitor</th>\n",
       "      <th>OperatingSystems_cat</th>\n",
       "      <th>Browser_cat</th>\n",
       "      <th>Region_cat</th>\n",
       "      <th>TrafficType_cat</th>\n",
       "    </tr>\n",
       "  </thead>\n",
       "  <tbody>\n",
       "    <tr>\n",
       "      <th>0</th>\n",
       "      <td>0.0</td>\n",
       "      <td>0.0</td>\n",
       "      <td>1</td>\n",
       "      <td>0.20</td>\n",
       "      <td>0.20</td>\n",
       "      <td>0.0</td>\n",
       "      <td>0.0</td>\n",
       "      <td>2</td>\n",
       "      <td>Macintosh</td>\n",
       "      <td>Safari</td>\n",
       "      <td>...</td>\n",
       "      <td>Returning_Visitor</td>\n",
       "      <td>0.0</td>\n",
       "      <td>0.0</td>\n",
       "      <td>0</td>\n",
       "      <td>0</td>\n",
       "      <td>1</td>\n",
       "      <td>4</td>\n",
       "      <td>8</td>\n",
       "      <td>4</td>\n",
       "      <td>2</td>\n",
       "    </tr>\n",
       "    <tr>\n",
       "      <th>1</th>\n",
       "      <td>0.0</td>\n",
       "      <td>0.0</td>\n",
       "      <td>2</td>\n",
       "      <td>0.00</td>\n",
       "      <td>0.10</td>\n",
       "      <td>0.0</td>\n",
       "      <td>0.0</td>\n",
       "      <td>2</td>\n",
       "      <td>Macintosh</td>\n",
       "      <td>Chrome</td>\n",
       "      <td>...</td>\n",
       "      <td>Returning_Visitor</td>\n",
       "      <td>0.0</td>\n",
       "      <td>0.0</td>\n",
       "      <td>0</td>\n",
       "      <td>0</td>\n",
       "      <td>1</td>\n",
       "      <td>4</td>\n",
       "      <td>1</td>\n",
       "      <td>4</td>\n",
       "      <td>0</td>\n",
       "    </tr>\n",
       "    <tr>\n",
       "      <th>2</th>\n",
       "      <td>0.0</td>\n",
       "      <td>0.0</td>\n",
       "      <td>1</td>\n",
       "      <td>0.20</td>\n",
       "      <td>0.20</td>\n",
       "      <td>0.0</td>\n",
       "      <td>0.0</td>\n",
       "      <td>2</td>\n",
       "      <td>iOS</td>\n",
       "      <td>Safari</td>\n",
       "      <td>...</td>\n",
       "      <td>Returning_Visitor</td>\n",
       "      <td>0.0</td>\n",
       "      <td>0.0</td>\n",
       "      <td>0</td>\n",
       "      <td>0</td>\n",
       "      <td>1</td>\n",
       "      <td>7</td>\n",
       "      <td>8</td>\n",
       "      <td>3</td>\n",
       "      <td>3</td>\n",
       "    </tr>\n",
       "    <tr>\n",
       "      <th>3</th>\n",
       "      <td>0.0</td>\n",
       "      <td>0.0</td>\n",
       "      <td>2</td>\n",
       "      <td>0.05</td>\n",
       "      <td>0.14</td>\n",
       "      <td>0.0</td>\n",
       "      <td>0.0</td>\n",
       "      <td>2</td>\n",
       "      <td>Android</td>\n",
       "      <td>Chrome</td>\n",
       "      <td>...</td>\n",
       "      <td>Returning_Visitor</td>\n",
       "      <td>0.0</td>\n",
       "      <td>0.0</td>\n",
       "      <td>0</td>\n",
       "      <td>0</td>\n",
       "      <td>1</td>\n",
       "      <td>0</td>\n",
       "      <td>1</td>\n",
       "      <td>6</td>\n",
       "      <td>4</td>\n",
       "    </tr>\n",
       "    <tr>\n",
       "      <th>4</th>\n",
       "      <td>0.0</td>\n",
       "      <td>0.0</td>\n",
       "      <td>10</td>\n",
       "      <td>0.02</td>\n",
       "      <td>0.05</td>\n",
       "      <td>0.0</td>\n",
       "      <td>0.0</td>\n",
       "      <td>2</td>\n",
       "      <td>Android</td>\n",
       "      <td>UC Browser</td>\n",
       "      <td>...</td>\n",
       "      <td>Returning_Visitor</td>\n",
       "      <td>1.0</td>\n",
       "      <td>0.0</td>\n",
       "      <td>0</td>\n",
       "      <td>0</td>\n",
       "      <td>1</td>\n",
       "      <td>0</td>\n",
       "      <td>11</td>\n",
       "      <td>4</td>\n",
       "      <td>4</td>\n",
       "    </tr>\n",
       "  </tbody>\n",
       "</table>\n",
       "<p>5 rows × 22 columns</p>\n",
       "</div>\n",
       "      <button class=\"colab-df-convert\" onclick=\"convertToInteractive('df-802bbfb1-2fe5-4309-9947-1ac066bb432f')\"\n",
       "              title=\"Convert this dataframe to an interactive table.\"\n",
       "              style=\"display:none;\">\n",
       "        \n",
       "  <svg xmlns=\"http://www.w3.org/2000/svg\" height=\"24px\"viewBox=\"0 0 24 24\"\n",
       "       width=\"24px\">\n",
       "    <path d=\"M0 0h24v24H0V0z\" fill=\"none\"/>\n",
       "    <path d=\"M18.56 5.44l.94 2.06.94-2.06 2.06-.94-2.06-.94-.94-2.06-.94 2.06-2.06.94zm-11 1L8.5 8.5l.94-2.06 2.06-.94-2.06-.94L8.5 2.5l-.94 2.06-2.06.94zm10 10l.94 2.06.94-2.06 2.06-.94-2.06-.94-.94-2.06-.94 2.06-2.06.94z\"/><path d=\"M17.41 7.96l-1.37-1.37c-.4-.4-.92-.59-1.43-.59-.52 0-1.04.2-1.43.59L10.3 9.45l-7.72 7.72c-.78.78-.78 2.05 0 2.83L4 21.41c.39.39.9.59 1.41.59.51 0 1.02-.2 1.41-.59l7.78-7.78 2.81-2.81c.8-.78.8-2.07 0-2.86zM5.41 20L4 18.59l7.72-7.72 1.47 1.35L5.41 20z\"/>\n",
       "  </svg>\n",
       "      </button>\n",
       "      \n",
       "  <style>\n",
       "    .colab-df-container {\n",
       "      display:flex;\n",
       "      flex-wrap:wrap;\n",
       "      gap: 12px;\n",
       "    }\n",
       "\n",
       "    .colab-df-convert {\n",
       "      background-color: #E8F0FE;\n",
       "      border: none;\n",
       "      border-radius: 50%;\n",
       "      cursor: pointer;\n",
       "      display: none;\n",
       "      fill: #1967D2;\n",
       "      height: 32px;\n",
       "      padding: 0 0 0 0;\n",
       "      width: 32px;\n",
       "    }\n",
       "\n",
       "    .colab-df-convert:hover {\n",
       "      background-color: #E2EBFA;\n",
       "      box-shadow: 0px 1px 2px rgba(60, 64, 67, 0.3), 0px 1px 3px 1px rgba(60, 64, 67, 0.15);\n",
       "      fill: #174EA6;\n",
       "    }\n",
       "\n",
       "    [theme=dark] .colab-df-convert {\n",
       "      background-color: #3B4455;\n",
       "      fill: #D2E3FC;\n",
       "    }\n",
       "\n",
       "    [theme=dark] .colab-df-convert:hover {\n",
       "      background-color: #434B5C;\n",
       "      box-shadow: 0px 1px 3px 1px rgba(0, 0, 0, 0.15);\n",
       "      filter: drop-shadow(0px 1px 2px rgba(0, 0, 0, 0.3));\n",
       "      fill: #FFFFFF;\n",
       "    }\n",
       "  </style>\n",
       "\n",
       "      <script>\n",
       "        const buttonEl =\n",
       "          document.querySelector('#df-802bbfb1-2fe5-4309-9947-1ac066bb432f button.colab-df-convert');\n",
       "        buttonEl.style.display =\n",
       "          google.colab.kernel.accessAllowed ? 'block' : 'none';\n",
       "\n",
       "        async function convertToInteractive(key) {\n",
       "          const element = document.querySelector('#df-802bbfb1-2fe5-4309-9947-1ac066bb432f');\n",
       "          const dataTable =\n",
       "            await google.colab.kernel.invokeFunction('convertToInteractive',\n",
       "                                                     [key], {});\n",
       "          if (!dataTable) return;\n",
       "\n",
       "          const docLinkHtml = 'Like what you see? Visit the ' +\n",
       "            '<a target=\"_blank\" href=https://colab.research.google.com/notebooks/data_table.ipynb>data table notebook</a>'\n",
       "            + ' to learn more about interactive tables.';\n",
       "          element.innerHTML = '';\n",
       "          dataTable['output_type'] = 'display_data';\n",
       "          await google.colab.output.renderOutput(dataTable, element);\n",
       "          const docLink = document.createElement('div');\n",
       "          docLink.innerHTML = docLinkHtml;\n",
       "          element.appendChild(docLink);\n",
       "        }\n",
       "      </script>\n",
       "    </div>\n",
       "  </div>\n",
       "  "
      ],
      "text/plain": [
       "   Administrative_Duration  Informational_Duration  ProductRelated  \\\n",
       "0                      0.0                     0.0               1   \n",
       "1                      0.0                     0.0               2   \n",
       "2                      0.0                     0.0               1   \n",
       "3                      0.0                     0.0               2   \n",
       "4                      0.0                     0.0              10   \n",
       "\n",
       "   BounceRates  ExitRates  PageValues  SpecialDay  Month OperatingSystems  \\\n",
       "0         0.20       0.20         0.0         0.0      2        Macintosh   \n",
       "1         0.00       0.10         0.0         0.0      2        Macintosh   \n",
       "2         0.20       0.20         0.0         0.0      2              iOS   \n",
       "3         0.05       0.14         0.0         0.0      2          Android   \n",
       "4         0.02       0.05         0.0         0.0      2          Android   \n",
       "\n",
       "      Browser  ...        VisitorType Weekend Revenue  New_Visitor  Other  \\\n",
       "0      Safari  ...  Returning_Visitor     0.0     0.0            0      0   \n",
       "1      Chrome  ...  Returning_Visitor     0.0     0.0            0      0   \n",
       "2      Safari  ...  Returning_Visitor     0.0     0.0            0      0   \n",
       "3      Chrome  ...  Returning_Visitor     0.0     0.0            0      0   \n",
       "4  UC Browser  ...  Returning_Visitor     1.0     0.0            0      0   \n",
       "\n",
       "   Returning_Visitor  OperatingSystems_cat  Browser_cat  Region_cat  \\\n",
       "0                  1                     4            8           4   \n",
       "1                  1                     4            1           4   \n",
       "2                  1                     7            8           3   \n",
       "3                  1                     0            1           6   \n",
       "4                  1                     0           11           4   \n",
       "\n",
       "   TrafficType_cat  \n",
       "0                2  \n",
       "1                0  \n",
       "2                3  \n",
       "3                4  \n",
       "4                4  \n",
       "\n",
       "[5 rows x 22 columns]"
      ]
     },
     "execution_count": 355,
     "metadata": {},
     "output_type": "execute_result"
    }
   ],
   "source": [
    "data_new_new.head()"
   ]
  },
  {
   "cell_type": "markdown",
   "metadata": {
    "id": "yBq6zaiBJQbt"
   },
   "source": [
    "# **Now define the target y and Input X to use in the model**\n",
    "\n",
    "y is the target (will buy or will not buy)\n",
    "\n",
    "X is the other attributes"
   ]
  },
  {
   "cell_type": "code",
   "execution_count": 356,
   "metadata": {
    "id": "ZfxkwOo2JeX5"
   },
   "outputs": [],
   "source": [
    "y = data_new_new['Revenue']"
   ]
  },
  {
   "cell_type": "code",
   "execution_count": 357,
   "metadata": {
    "id": "sX9BQRRqKITL"
   },
   "outputs": [],
   "source": [
    "#drop the non-numeric columns when defining X\n",
    "x = data_new_new.drop(['Revenue', 'OperatingSystems', 'Browser', 'TrafficType', 'Region', 'VisitorType'], axis=1)"
   ]
  },
  {
   "cell_type": "code",
   "execution_count": 358,
   "metadata": {
    "colab": {
     "base_uri": "https://localhost:8080/"
    },
    "id": "4mf0oL_9KxsO",
    "outputId": "2bdc11e6-a666-4ac3-b9e4-d556a527d861"
   },
   "outputs": [
    {
     "data": {
      "text/plain": [
       "(12205,)"
      ]
     },
     "execution_count": 358,
     "metadata": {},
     "output_type": "execute_result"
    }
   ],
   "source": [
    "y.shape"
   ]
  },
  {
   "cell_type": "code",
   "execution_count": 359,
   "metadata": {
    "colab": {
     "base_uri": "https://localhost:8080/",
     "height": 206
    },
    "id": "_MWMoGlgKyJB",
    "outputId": "dc734ad1-e8f1-46a7-d879-0801c377dbfb"
   },
   "outputs": [
    {
     "data": {
      "text/html": [
       "\n",
       "  <div id=\"df-ca8d2d25-916d-480c-a22c-66052d9cb13c\">\n",
       "    <div class=\"colab-df-container\">\n",
       "      <div>\n",
       "<style scoped>\n",
       "    .dataframe tbody tr th:only-of-type {\n",
       "        vertical-align: middle;\n",
       "    }\n",
       "\n",
       "    .dataframe tbody tr th {\n",
       "        vertical-align: top;\n",
       "    }\n",
       "\n",
       "    .dataframe thead th {\n",
       "        text-align: right;\n",
       "    }\n",
       "</style>\n",
       "<table border=\"1\" class=\"dataframe\">\n",
       "  <thead>\n",
       "    <tr style=\"text-align: right;\">\n",
       "      <th></th>\n",
       "      <th>Administrative_Duration</th>\n",
       "      <th>Informational_Duration</th>\n",
       "      <th>ProductRelated</th>\n",
       "      <th>BounceRates</th>\n",
       "      <th>ExitRates</th>\n",
       "      <th>PageValues</th>\n",
       "      <th>SpecialDay</th>\n",
       "      <th>Month</th>\n",
       "      <th>Weekend</th>\n",
       "      <th>New_Visitor</th>\n",
       "      <th>Other</th>\n",
       "      <th>Returning_Visitor</th>\n",
       "      <th>OperatingSystems_cat</th>\n",
       "      <th>Browser_cat</th>\n",
       "      <th>Region_cat</th>\n",
       "      <th>TrafficType_cat</th>\n",
       "    </tr>\n",
       "  </thead>\n",
       "  <tbody>\n",
       "    <tr>\n",
       "      <th>0</th>\n",
       "      <td>0.0</td>\n",
       "      <td>0.0</td>\n",
       "      <td>1</td>\n",
       "      <td>0.20</td>\n",
       "      <td>0.20</td>\n",
       "      <td>0.0</td>\n",
       "      <td>0.0</td>\n",
       "      <td>2</td>\n",
       "      <td>0.0</td>\n",
       "      <td>0</td>\n",
       "      <td>0</td>\n",
       "      <td>1</td>\n",
       "      <td>4</td>\n",
       "      <td>8</td>\n",
       "      <td>4</td>\n",
       "      <td>2</td>\n",
       "    </tr>\n",
       "    <tr>\n",
       "      <th>1</th>\n",
       "      <td>0.0</td>\n",
       "      <td>0.0</td>\n",
       "      <td>2</td>\n",
       "      <td>0.00</td>\n",
       "      <td>0.10</td>\n",
       "      <td>0.0</td>\n",
       "      <td>0.0</td>\n",
       "      <td>2</td>\n",
       "      <td>0.0</td>\n",
       "      <td>0</td>\n",
       "      <td>0</td>\n",
       "      <td>1</td>\n",
       "      <td>4</td>\n",
       "      <td>1</td>\n",
       "      <td>4</td>\n",
       "      <td>0</td>\n",
       "    </tr>\n",
       "    <tr>\n",
       "      <th>2</th>\n",
       "      <td>0.0</td>\n",
       "      <td>0.0</td>\n",
       "      <td>1</td>\n",
       "      <td>0.20</td>\n",
       "      <td>0.20</td>\n",
       "      <td>0.0</td>\n",
       "      <td>0.0</td>\n",
       "      <td>2</td>\n",
       "      <td>0.0</td>\n",
       "      <td>0</td>\n",
       "      <td>0</td>\n",
       "      <td>1</td>\n",
       "      <td>7</td>\n",
       "      <td>8</td>\n",
       "      <td>3</td>\n",
       "      <td>3</td>\n",
       "    </tr>\n",
       "    <tr>\n",
       "      <th>3</th>\n",
       "      <td>0.0</td>\n",
       "      <td>0.0</td>\n",
       "      <td>2</td>\n",
       "      <td>0.05</td>\n",
       "      <td>0.14</td>\n",
       "      <td>0.0</td>\n",
       "      <td>0.0</td>\n",
       "      <td>2</td>\n",
       "      <td>0.0</td>\n",
       "      <td>0</td>\n",
       "      <td>0</td>\n",
       "      <td>1</td>\n",
       "      <td>0</td>\n",
       "      <td>1</td>\n",
       "      <td>6</td>\n",
       "      <td>4</td>\n",
       "    </tr>\n",
       "    <tr>\n",
       "      <th>4</th>\n",
       "      <td>0.0</td>\n",
       "      <td>0.0</td>\n",
       "      <td>10</td>\n",
       "      <td>0.02</td>\n",
       "      <td>0.05</td>\n",
       "      <td>0.0</td>\n",
       "      <td>0.0</td>\n",
       "      <td>2</td>\n",
       "      <td>1.0</td>\n",
       "      <td>0</td>\n",
       "      <td>0</td>\n",
       "      <td>1</td>\n",
       "      <td>0</td>\n",
       "      <td>11</td>\n",
       "      <td>4</td>\n",
       "      <td>4</td>\n",
       "    </tr>\n",
       "  </tbody>\n",
       "</table>\n",
       "</div>\n",
       "      <button class=\"colab-df-convert\" onclick=\"convertToInteractive('df-ca8d2d25-916d-480c-a22c-66052d9cb13c')\"\n",
       "              title=\"Convert this dataframe to an interactive table.\"\n",
       "              style=\"display:none;\">\n",
       "        \n",
       "  <svg xmlns=\"http://www.w3.org/2000/svg\" height=\"24px\"viewBox=\"0 0 24 24\"\n",
       "       width=\"24px\">\n",
       "    <path d=\"M0 0h24v24H0V0z\" fill=\"none\"/>\n",
       "    <path d=\"M18.56 5.44l.94 2.06.94-2.06 2.06-.94-2.06-.94-.94-2.06-.94 2.06-2.06.94zm-11 1L8.5 8.5l.94-2.06 2.06-.94-2.06-.94L8.5 2.5l-.94 2.06-2.06.94zm10 10l.94 2.06.94-2.06 2.06-.94-2.06-.94-.94-2.06-.94 2.06-2.06.94z\"/><path d=\"M17.41 7.96l-1.37-1.37c-.4-.4-.92-.59-1.43-.59-.52 0-1.04.2-1.43.59L10.3 9.45l-7.72 7.72c-.78.78-.78 2.05 0 2.83L4 21.41c.39.39.9.59 1.41.59.51 0 1.02-.2 1.41-.59l7.78-7.78 2.81-2.81c.8-.78.8-2.07 0-2.86zM5.41 20L4 18.59l7.72-7.72 1.47 1.35L5.41 20z\"/>\n",
       "  </svg>\n",
       "      </button>\n",
       "      \n",
       "  <style>\n",
       "    .colab-df-container {\n",
       "      display:flex;\n",
       "      flex-wrap:wrap;\n",
       "      gap: 12px;\n",
       "    }\n",
       "\n",
       "    .colab-df-convert {\n",
       "      background-color: #E8F0FE;\n",
       "      border: none;\n",
       "      border-radius: 50%;\n",
       "      cursor: pointer;\n",
       "      display: none;\n",
       "      fill: #1967D2;\n",
       "      height: 32px;\n",
       "      padding: 0 0 0 0;\n",
       "      width: 32px;\n",
       "    }\n",
       "\n",
       "    .colab-df-convert:hover {\n",
       "      background-color: #E2EBFA;\n",
       "      box-shadow: 0px 1px 2px rgba(60, 64, 67, 0.3), 0px 1px 3px 1px rgba(60, 64, 67, 0.15);\n",
       "      fill: #174EA6;\n",
       "    }\n",
       "\n",
       "    [theme=dark] .colab-df-convert {\n",
       "      background-color: #3B4455;\n",
       "      fill: #D2E3FC;\n",
       "    }\n",
       "\n",
       "    [theme=dark] .colab-df-convert:hover {\n",
       "      background-color: #434B5C;\n",
       "      box-shadow: 0px 1px 3px 1px rgba(0, 0, 0, 0.15);\n",
       "      filter: drop-shadow(0px 1px 2px rgba(0, 0, 0, 0.3));\n",
       "      fill: #FFFFFF;\n",
       "    }\n",
       "  </style>\n",
       "\n",
       "      <script>\n",
       "        const buttonEl =\n",
       "          document.querySelector('#df-ca8d2d25-916d-480c-a22c-66052d9cb13c button.colab-df-convert');\n",
       "        buttonEl.style.display =\n",
       "          google.colab.kernel.accessAllowed ? 'block' : 'none';\n",
       "\n",
       "        async function convertToInteractive(key) {\n",
       "          const element = document.querySelector('#df-ca8d2d25-916d-480c-a22c-66052d9cb13c');\n",
       "          const dataTable =\n",
       "            await google.colab.kernel.invokeFunction('convertToInteractive',\n",
       "                                                     [key], {});\n",
       "          if (!dataTable) return;\n",
       "\n",
       "          const docLinkHtml = 'Like what you see? Visit the ' +\n",
       "            '<a target=\"_blank\" href=https://colab.research.google.com/notebooks/data_table.ipynb>data table notebook</a>'\n",
       "            + ' to learn more about interactive tables.';\n",
       "          element.innerHTML = '';\n",
       "          dataTable['output_type'] = 'display_data';\n",
       "          await google.colab.output.renderOutput(dataTable, element);\n",
       "          const docLink = document.createElement('div');\n",
       "          docLink.innerHTML = docLinkHtml;\n",
       "          element.appendChild(docLink);\n",
       "        }\n",
       "      </script>\n",
       "    </div>\n",
       "  </div>\n",
       "  "
      ],
      "text/plain": [
       "   Administrative_Duration  Informational_Duration  ProductRelated  \\\n",
       "0                      0.0                     0.0               1   \n",
       "1                      0.0                     0.0               2   \n",
       "2                      0.0                     0.0               1   \n",
       "3                      0.0                     0.0               2   \n",
       "4                      0.0                     0.0              10   \n",
       "\n",
       "   BounceRates  ExitRates  PageValues  SpecialDay  Month  Weekend  \\\n",
       "0         0.20       0.20         0.0         0.0      2      0.0   \n",
       "1         0.00       0.10         0.0         0.0      2      0.0   \n",
       "2         0.20       0.20         0.0         0.0      2      0.0   \n",
       "3         0.05       0.14         0.0         0.0      2      0.0   \n",
       "4         0.02       0.05         0.0         0.0      2      1.0   \n",
       "\n",
       "   New_Visitor  Other  Returning_Visitor  OperatingSystems_cat  Browser_cat  \\\n",
       "0            0      0                  1                     4            8   \n",
       "1            0      0                  1                     4            1   \n",
       "2            0      0                  1                     7            8   \n",
       "3            0      0                  1                     0            1   \n",
       "4            0      0                  1                     0           11   \n",
       "\n",
       "   Region_cat  TrafficType_cat  \n",
       "0           4                2  \n",
       "1           4                0  \n",
       "2           3                3  \n",
       "3           6                4  \n",
       "4           4                4  "
      ]
     },
     "execution_count": 359,
     "metadata": {},
     "output_type": "execute_result"
    }
   ],
   "source": [
    "#display the first 5 rows to X to ensure there are no errors.\n",
    "x.head()"
   ]
  },
  {
   "cell_type": "code",
   "execution_count": 360,
   "metadata": {
    "id": "4wIBeGNaX2E-"
   },
   "outputs": [],
   "source": [
    "#Scale or normalise the data before using\n",
    "\n",
    "standardizer = StandardScaler()\n",
    "X = standardizer.fit_transform(x)\n"
   ]
  },
  {
   "cell_type": "code",
   "execution_count": 361,
   "metadata": {
    "id": "lYjmDIQXLFN-"
   },
   "outputs": [],
   "source": [
    "#Split y and X in test and training data using the sklearn train_test_split function. The data is split 80:20\n",
    "X_train, X_test, y_train, y_test = train_test_split(X,y,test_size=0.2, random_state=0)"
   ]
  },
  {
   "cell_type": "markdown",
   "metadata": {
    "id": "5NWANZavOtLF"
   },
   "source": [
    "# **MODELLING AND EVALUATION**"
   ]
  },
  {
   "cell_type": "markdown",
   "metadata": {
    "id": "KxaHgehaMf4E"
   },
   "source": [
    "A model can be fitted in Python using options including sklearn, tensorflow and pytorch\n",
    "\n",
    "This business challenge will fit the model using sklearn off-the-shelf classification algorithms such as Support Vector Machines (SVMs), Random Forests, Logistic Regression, Naive Bayes, K-Nearest Neighbor, Decision Trees and Neural Networks.\n",
    "\n",
    "Information to use SKLEARN classifier obtained from: https://www.learndatasci.com/glossary/binary-classification/\n"
   ]
  },
  {
   "cell_type": "code",
   "execution_count": 362,
   "metadata": {
    "colab": {
     "base_uri": "https://localhost:8080/"
    },
    "id": "yRfW60dJW-gL",
    "outputId": "86086d20-b9ce-43c1-995e-3747fc07b477"
   },
   "outputs": [
    {
     "name": "stderr",
     "output_type": "stream",
     "text": [
      "/usr/local/lib/python3.7/dist-packages/sklearn/svm/_base.py:1208: ConvergenceWarning: Liblinear failed to converge, increase the number of iterations.\n",
      "  ConvergenceWarning,\n"
     ]
    }
   ],
   "source": [
    "#Define a diction to hold all the classifiers and their results to avoid writing \n",
    "#several lines of the same codes individually for each classifier\n",
    "sklearn_models = {}\n",
    "\n",
    "# Logistic Regression\n",
    "sklearn_models['Logistic Regression'] = LogisticRegression()\n",
    "\n",
    "# Support Vector Machines\n",
    "sklearn_models['Support Vector Machines'] = LinearSVC()\n",
    "\n",
    "# Decision Trees\n",
    "sklearn_models['Decision Trees'] = DecisionTreeClassifier()\n",
    "\n",
    "# Random Forest\n",
    "sklearn_models['Random Forest'] = RandomForestClassifier()\n",
    "\n",
    "# Naive Bayes\n",
    "sklearn_models['Naive Bayes'] = GaussianNB()\n",
    "\n",
    "# K-Nearest Neighbors\n",
    "sklearn_models['K-Nearest Neighbor'] = KNeighborsClassifier()\n",
    "\n",
    "# Neural Network\n",
    "sklearn_models['Neural Network'] = MLPClassifier(hidden_layer_sizes=(13,13,13),max_iter=500)\n",
    "\n",
    "\n",
    "#variable to ise in evaluation to test accuracy\n",
    "\n",
    "train_acc, accuracy, precision, recall = {}, {}, {}, {}\n",
    "\n",
    "#A for loop to print all the results of the models\n",
    "\n",
    "for key in sklearn_models.keys():\n",
    "    \n",
    "    # Fit the classifier model\n",
    "    sklearn_models[key].fit(X_train, y_train)\n",
    "\n",
    "        \n",
    "    # Prediction \n",
    "    pred_train = sklearn_models[key].predict(X_train)\n",
    "    predictions = sklearn_models[key].predict(X_test)\n",
    "    \n",
    "\n",
    "    #EVALUATIONS        \n",
    "    # Calculate Accuracy, Precision and Recall Metrics\n",
    "    train_acc[key] = accuracy_score(pred_train,y_train)\n",
    "    accuracy[key] = accuracy_score(predictions, y_test)\n",
    "    precision[key] = precision_score(predictions, y_test)\n",
    "    recall[key] = recall_score(predictions, y_test)\n"
   ]
  },
  {
   "cell_type": "markdown",
   "metadata": {
    "id": "hwpHce6cO2pf"
   },
   "source": [
    "# **RESULTS OF EVALUATING THE MODELS**"
   ]
  },
  {
   "cell_type": "code",
   "execution_count": 363,
   "metadata": {
    "colab": {
     "base_uri": "https://localhost:8080/",
     "height": 268
    },
    "id": "UhCIIiSNaca1",
    "outputId": "0f73d837-20a8-4112-dc99-9bd29fb15fd6"
   },
   "outputs": [
    {
     "data": {
      "text/html": [
       "\n",
       "  <div id=\"df-f049fe99-2bfd-4931-a548-0e1df19bd40e\">\n",
       "    <div class=\"colab-df-container\">\n",
       "      <div>\n",
       "<style scoped>\n",
       "    .dataframe tbody tr th:only-of-type {\n",
       "        vertical-align: middle;\n",
       "    }\n",
       "\n",
       "    .dataframe tbody tr th {\n",
       "        vertical-align: top;\n",
       "    }\n",
       "\n",
       "    .dataframe thead th {\n",
       "        text-align: right;\n",
       "    }\n",
       "</style>\n",
       "<table border=\"1\" class=\"dataframe\">\n",
       "  <thead>\n",
       "    <tr style=\"text-align: right;\">\n",
       "      <th></th>\n",
       "      <th>Training_Accuracy</th>\n",
       "      <th>Test_Accuracy</th>\n",
       "      <th>Precision</th>\n",
       "      <th>Recall</th>\n",
       "    </tr>\n",
       "  </thead>\n",
       "  <tbody>\n",
       "    <tr>\n",
       "      <th>Logistic Regression</th>\n",
       "      <td>0.88</td>\n",
       "      <td>0.89</td>\n",
       "      <td>0.36</td>\n",
       "      <td>0.78</td>\n",
       "    </tr>\n",
       "    <tr>\n",
       "      <th>Support Vector Machines</th>\n",
       "      <td>0.88</td>\n",
       "      <td>0.88</td>\n",
       "      <td>0.30</td>\n",
       "      <td>0.79</td>\n",
       "    </tr>\n",
       "    <tr>\n",
       "      <th>Decision Trees</th>\n",
       "      <td>1.00</td>\n",
       "      <td>0.86</td>\n",
       "      <td>0.54</td>\n",
       "      <td>0.56</td>\n",
       "    </tr>\n",
       "    <tr>\n",
       "      <th>Random Forest</th>\n",
       "      <td>1.00</td>\n",
       "      <td>0.90</td>\n",
       "      <td>0.54</td>\n",
       "      <td>0.75</td>\n",
       "    </tr>\n",
       "    <tr>\n",
       "      <th>Naive Bayes</th>\n",
       "      <td>0.77</td>\n",
       "      <td>0.77</td>\n",
       "      <td>0.64</td>\n",
       "      <td>0.36</td>\n",
       "    </tr>\n",
       "    <tr>\n",
       "      <th>K-Nearest Neighbor</th>\n",
       "      <td>0.90</td>\n",
       "      <td>0.87</td>\n",
       "      <td>0.36</td>\n",
       "      <td>0.66</td>\n",
       "    </tr>\n",
       "    <tr>\n",
       "      <th>Neural Network</th>\n",
       "      <td>0.91</td>\n",
       "      <td>0.89</td>\n",
       "      <td>0.52</td>\n",
       "      <td>0.69</td>\n",
       "    </tr>\n",
       "  </tbody>\n",
       "</table>\n",
       "</div>\n",
       "      <button class=\"colab-df-convert\" onclick=\"convertToInteractive('df-f049fe99-2bfd-4931-a548-0e1df19bd40e')\"\n",
       "              title=\"Convert this dataframe to an interactive table.\"\n",
       "              style=\"display:none;\">\n",
       "        \n",
       "  <svg xmlns=\"http://www.w3.org/2000/svg\" height=\"24px\"viewBox=\"0 0 24 24\"\n",
       "       width=\"24px\">\n",
       "    <path d=\"M0 0h24v24H0V0z\" fill=\"none\"/>\n",
       "    <path d=\"M18.56 5.44l.94 2.06.94-2.06 2.06-.94-2.06-.94-.94-2.06-.94 2.06-2.06.94zm-11 1L8.5 8.5l.94-2.06 2.06-.94-2.06-.94L8.5 2.5l-.94 2.06-2.06.94zm10 10l.94 2.06.94-2.06 2.06-.94-2.06-.94-.94-2.06-.94 2.06-2.06.94z\"/><path d=\"M17.41 7.96l-1.37-1.37c-.4-.4-.92-.59-1.43-.59-.52 0-1.04.2-1.43.59L10.3 9.45l-7.72 7.72c-.78.78-.78 2.05 0 2.83L4 21.41c.39.39.9.59 1.41.59.51 0 1.02-.2 1.41-.59l7.78-7.78 2.81-2.81c.8-.78.8-2.07 0-2.86zM5.41 20L4 18.59l7.72-7.72 1.47 1.35L5.41 20z\"/>\n",
       "  </svg>\n",
       "      </button>\n",
       "      \n",
       "  <style>\n",
       "    .colab-df-container {\n",
       "      display:flex;\n",
       "      flex-wrap:wrap;\n",
       "      gap: 12px;\n",
       "    }\n",
       "\n",
       "    .colab-df-convert {\n",
       "      background-color: #E8F0FE;\n",
       "      border: none;\n",
       "      border-radius: 50%;\n",
       "      cursor: pointer;\n",
       "      display: none;\n",
       "      fill: #1967D2;\n",
       "      height: 32px;\n",
       "      padding: 0 0 0 0;\n",
       "      width: 32px;\n",
       "    }\n",
       "\n",
       "    .colab-df-convert:hover {\n",
       "      background-color: #E2EBFA;\n",
       "      box-shadow: 0px 1px 2px rgba(60, 64, 67, 0.3), 0px 1px 3px 1px rgba(60, 64, 67, 0.15);\n",
       "      fill: #174EA6;\n",
       "    }\n",
       "\n",
       "    [theme=dark] .colab-df-convert {\n",
       "      background-color: #3B4455;\n",
       "      fill: #D2E3FC;\n",
       "    }\n",
       "\n",
       "    [theme=dark] .colab-df-convert:hover {\n",
       "      background-color: #434B5C;\n",
       "      box-shadow: 0px 1px 3px 1px rgba(0, 0, 0, 0.15);\n",
       "      filter: drop-shadow(0px 1px 2px rgba(0, 0, 0, 0.3));\n",
       "      fill: #FFFFFF;\n",
       "    }\n",
       "  </style>\n",
       "\n",
       "      <script>\n",
       "        const buttonEl =\n",
       "          document.querySelector('#df-f049fe99-2bfd-4931-a548-0e1df19bd40e button.colab-df-convert');\n",
       "        buttonEl.style.display =\n",
       "          google.colab.kernel.accessAllowed ? 'block' : 'none';\n",
       "\n",
       "        async function convertToInteractive(key) {\n",
       "          const element = document.querySelector('#df-f049fe99-2bfd-4931-a548-0e1df19bd40e');\n",
       "          const dataTable =\n",
       "            await google.colab.kernel.invokeFunction('convertToInteractive',\n",
       "                                                     [key], {});\n",
       "          if (!dataTable) return;\n",
       "\n",
       "          const docLinkHtml = 'Like what you see? Visit the ' +\n",
       "            '<a target=\"_blank\" href=https://colab.research.google.com/notebooks/data_table.ipynb>data table notebook</a>'\n",
       "            + ' to learn more about interactive tables.';\n",
       "          element.innerHTML = '';\n",
       "          dataTable['output_type'] = 'display_data';\n",
       "          await google.colab.output.renderOutput(dataTable, element);\n",
       "          const docLink = document.createElement('div');\n",
       "          docLink.innerHTML = docLinkHtml;\n",
       "          element.appendChild(docLink);\n",
       "        }\n",
       "      </script>\n",
       "    </div>\n",
       "  </div>\n",
       "  "
      ],
      "text/plain": [
       "                         Training_Accuracy  Test_Accuracy  Precision  Recall\n",
       "Logistic Regression                   0.88           0.89       0.36    0.78\n",
       "Support Vector Machines               0.88           0.88       0.30    0.79\n",
       "Decision Trees                        1.00           0.86       0.54    0.56\n",
       "Random Forest                         1.00           0.90       0.54    0.75\n",
       "Naive Bayes                           0.77           0.77       0.64    0.36\n",
       "K-Nearest Neighbor                    0.90           0.87       0.36    0.66\n",
       "Neural Network                        0.91           0.89       0.52    0.69"
      ]
     },
     "execution_count": 363,
     "metadata": {},
     "output_type": "execute_result"
    }
   ],
   "source": [
    "df_model = pd.DataFrame(index=sklearn_models.keys(), columns=['Training_Accuracy', 'Test_Accuracy','Precision', 'Recall'])\n",
    "pd.set_option('display.precision', 2)\n",
    "df_model['Training_Accuracy'] = train_acc.values()\n",
    "df_model['Test_Accuracy'] = accuracy.values()\n",
    "df_model['Precision'] = precision.values()\n",
    "df_model['Recall'] = recall.values()\n",
    "\n",
    "\n",
    "df_model\n"
   ]
  },
  {
   "cell_type": "markdown",
   "metadata": {
    "id": "WVTNC8q-InQI"
   },
   "source": [
    "# **Discussion of Results of the Prediction**\n",
    "\n",
    "For all seven models, the result of prediction on the training data set and  evaluation based on the test data set are close in value. This says that there is no overfitting or umderfitting of the models. This prediction is for Marketing purpose so the accuracy value which is between 77% and 90% is a very good result. A score of 90% indicates that 90% of the times the model will predict a correct result.\n"
   ]
  },
  {
   "cell_type": "markdown",
   "metadata": {
    "id": "D9LLPG1pMEC2"
   },
   "source": [
    "# **Stakeholder discussion re result of the model**\n",
    "\n",
    "During a disussion with a stakeholder who found the result very interesting, the following were raised:\n",
    "\n",
    "The numbers of returning visitors are high but there is not an equally high number converting. Could a prediction be modelled only for returning visitors, from the three types of visitors?\n",
    "\n",
    "Is it possible to find the most important attributes or colums in the dataset that contributes to the prediction?\n",
    "\n",
    "The answer to these questions are shown below\n",
    "\n"
   ]
  },
  {
   "cell_type": "markdown",
   "metadata": {
    "id": "rmm1fxkzlvJ6"
   },
   "source": [
    "# **Prediction based on only the Returning Visitors**"
   ]
  },
  {
   "cell_type": "code",
   "execution_count": 364,
   "metadata": {
    "colab": {
     "base_uri": "https://localhost:8080/",
     "height": 206
    },
    "id": "HD5Pxt6cwHZl",
    "outputId": "84a8beb9-5544-41f4-a488-ce10ce459727"
   },
   "outputs": [
    {
     "data": {
      "text/html": [
       "\n",
       "  <div id=\"df-c57b9fd7-7540-453b-9b48-db2fdd5613cd\">\n",
       "    <div class=\"colab-df-container\">\n",
       "      <div>\n",
       "<style scoped>\n",
       "    .dataframe tbody tr th:only-of-type {\n",
       "        vertical-align: middle;\n",
       "    }\n",
       "\n",
       "    .dataframe tbody tr th {\n",
       "        vertical-align: top;\n",
       "    }\n",
       "\n",
       "    .dataframe thead th {\n",
       "        text-align: right;\n",
       "    }\n",
       "</style>\n",
       "<table border=\"1\" class=\"dataframe\">\n",
       "  <thead>\n",
       "    <tr style=\"text-align: right;\">\n",
       "      <th></th>\n",
       "      <th>Administrative_Duration</th>\n",
       "      <th>Informational_Duration</th>\n",
       "      <th>ProductRelated</th>\n",
       "      <th>BounceRates</th>\n",
       "      <th>ExitRates</th>\n",
       "      <th>PageValues</th>\n",
       "      <th>SpecialDay</th>\n",
       "      <th>Month</th>\n",
       "      <th>Weekend</th>\n",
       "      <th>New_Visitor</th>\n",
       "      <th>Other</th>\n",
       "      <th>Returning_Visitor</th>\n",
       "      <th>OperatingSystems_cat</th>\n",
       "      <th>Browser_cat</th>\n",
       "      <th>Region_cat</th>\n",
       "      <th>TrafficType_cat</th>\n",
       "    </tr>\n",
       "  </thead>\n",
       "  <tbody>\n",
       "    <tr>\n",
       "      <th>0</th>\n",
       "      <td>0.0</td>\n",
       "      <td>0.0</td>\n",
       "      <td>1</td>\n",
       "      <td>0.20</td>\n",
       "      <td>0.20</td>\n",
       "      <td>0.0</td>\n",
       "      <td>0.0</td>\n",
       "      <td>2</td>\n",
       "      <td>0.0</td>\n",
       "      <td>0</td>\n",
       "      <td>0</td>\n",
       "      <td>1</td>\n",
       "      <td>4</td>\n",
       "      <td>8</td>\n",
       "      <td>4</td>\n",
       "      <td>2</td>\n",
       "    </tr>\n",
       "    <tr>\n",
       "      <th>1</th>\n",
       "      <td>0.0</td>\n",
       "      <td>0.0</td>\n",
       "      <td>2</td>\n",
       "      <td>0.00</td>\n",
       "      <td>0.10</td>\n",
       "      <td>0.0</td>\n",
       "      <td>0.0</td>\n",
       "      <td>2</td>\n",
       "      <td>0.0</td>\n",
       "      <td>0</td>\n",
       "      <td>0</td>\n",
       "      <td>1</td>\n",
       "      <td>4</td>\n",
       "      <td>1</td>\n",
       "      <td>4</td>\n",
       "      <td>0</td>\n",
       "    </tr>\n",
       "    <tr>\n",
       "      <th>2</th>\n",
       "      <td>0.0</td>\n",
       "      <td>0.0</td>\n",
       "      <td>1</td>\n",
       "      <td>0.20</td>\n",
       "      <td>0.20</td>\n",
       "      <td>0.0</td>\n",
       "      <td>0.0</td>\n",
       "      <td>2</td>\n",
       "      <td>0.0</td>\n",
       "      <td>0</td>\n",
       "      <td>0</td>\n",
       "      <td>1</td>\n",
       "      <td>7</td>\n",
       "      <td>8</td>\n",
       "      <td>3</td>\n",
       "      <td>3</td>\n",
       "    </tr>\n",
       "    <tr>\n",
       "      <th>3</th>\n",
       "      <td>0.0</td>\n",
       "      <td>0.0</td>\n",
       "      <td>2</td>\n",
       "      <td>0.05</td>\n",
       "      <td>0.14</td>\n",
       "      <td>0.0</td>\n",
       "      <td>0.0</td>\n",
       "      <td>2</td>\n",
       "      <td>0.0</td>\n",
       "      <td>0</td>\n",
       "      <td>0</td>\n",
       "      <td>1</td>\n",
       "      <td>0</td>\n",
       "      <td>1</td>\n",
       "      <td>6</td>\n",
       "      <td>4</td>\n",
       "    </tr>\n",
       "    <tr>\n",
       "      <th>4</th>\n",
       "      <td>0.0</td>\n",
       "      <td>0.0</td>\n",
       "      <td>10</td>\n",
       "      <td>0.02</td>\n",
       "      <td>0.05</td>\n",
       "      <td>0.0</td>\n",
       "      <td>0.0</td>\n",
       "      <td>2</td>\n",
       "      <td>1.0</td>\n",
       "      <td>0</td>\n",
       "      <td>0</td>\n",
       "      <td>1</td>\n",
       "      <td>0</td>\n",
       "      <td>11</td>\n",
       "      <td>4</td>\n",
       "      <td>4</td>\n",
       "    </tr>\n",
       "  </tbody>\n",
       "</table>\n",
       "</div>\n",
       "      <button class=\"colab-df-convert\" onclick=\"convertToInteractive('df-c57b9fd7-7540-453b-9b48-db2fdd5613cd')\"\n",
       "              title=\"Convert this dataframe to an interactive table.\"\n",
       "              style=\"display:none;\">\n",
       "        \n",
       "  <svg xmlns=\"http://www.w3.org/2000/svg\" height=\"24px\"viewBox=\"0 0 24 24\"\n",
       "       width=\"24px\">\n",
       "    <path d=\"M0 0h24v24H0V0z\" fill=\"none\"/>\n",
       "    <path d=\"M18.56 5.44l.94 2.06.94-2.06 2.06-.94-2.06-.94-.94-2.06-.94 2.06-2.06.94zm-11 1L8.5 8.5l.94-2.06 2.06-.94-2.06-.94L8.5 2.5l-.94 2.06-2.06.94zm10 10l.94 2.06.94-2.06 2.06-.94-2.06-.94-.94-2.06-.94 2.06-2.06.94z\"/><path d=\"M17.41 7.96l-1.37-1.37c-.4-.4-.92-.59-1.43-.59-.52 0-1.04.2-1.43.59L10.3 9.45l-7.72 7.72c-.78.78-.78 2.05 0 2.83L4 21.41c.39.39.9.59 1.41.59.51 0 1.02-.2 1.41-.59l7.78-7.78 2.81-2.81c.8-.78.8-2.07 0-2.86zM5.41 20L4 18.59l7.72-7.72 1.47 1.35L5.41 20z\"/>\n",
       "  </svg>\n",
       "      </button>\n",
       "      \n",
       "  <style>\n",
       "    .colab-df-container {\n",
       "      display:flex;\n",
       "      flex-wrap:wrap;\n",
       "      gap: 12px;\n",
       "    }\n",
       "\n",
       "    .colab-df-convert {\n",
       "      background-color: #E8F0FE;\n",
       "      border: none;\n",
       "      border-radius: 50%;\n",
       "      cursor: pointer;\n",
       "      display: none;\n",
       "      fill: #1967D2;\n",
       "      height: 32px;\n",
       "      padding: 0 0 0 0;\n",
       "      width: 32px;\n",
       "    }\n",
       "\n",
       "    .colab-df-convert:hover {\n",
       "      background-color: #E2EBFA;\n",
       "      box-shadow: 0px 1px 2px rgba(60, 64, 67, 0.3), 0px 1px 3px 1px rgba(60, 64, 67, 0.15);\n",
       "      fill: #174EA6;\n",
       "    }\n",
       "\n",
       "    [theme=dark] .colab-df-convert {\n",
       "      background-color: #3B4455;\n",
       "      fill: #D2E3FC;\n",
       "    }\n",
       "\n",
       "    [theme=dark] .colab-df-convert:hover {\n",
       "      background-color: #434B5C;\n",
       "      box-shadow: 0px 1px 3px 1px rgba(0, 0, 0, 0.15);\n",
       "      filter: drop-shadow(0px 1px 2px rgba(0, 0, 0, 0.3));\n",
       "      fill: #FFFFFF;\n",
       "    }\n",
       "  </style>\n",
       "\n",
       "      <script>\n",
       "        const buttonEl =\n",
       "          document.querySelector('#df-c57b9fd7-7540-453b-9b48-db2fdd5613cd button.colab-df-convert');\n",
       "        buttonEl.style.display =\n",
       "          google.colab.kernel.accessAllowed ? 'block' : 'none';\n",
       "\n",
       "        async function convertToInteractive(key) {\n",
       "          const element = document.querySelector('#df-c57b9fd7-7540-453b-9b48-db2fdd5613cd');\n",
       "          const dataTable =\n",
       "            await google.colab.kernel.invokeFunction('convertToInteractive',\n",
       "                                                     [key], {});\n",
       "          if (!dataTable) return;\n",
       "\n",
       "          const docLinkHtml = 'Like what you see? Visit the ' +\n",
       "            '<a target=\"_blank\" href=https://colab.research.google.com/notebooks/data_table.ipynb>data table notebook</a>'\n",
       "            + ' to learn more about interactive tables.';\n",
       "          element.innerHTML = '';\n",
       "          dataTable['output_type'] = 'display_data';\n",
       "          await google.colab.output.renderOutput(dataTable, element);\n",
       "          const docLink = document.createElement('div');\n",
       "          docLink.innerHTML = docLinkHtml;\n",
       "          element.appendChild(docLink);\n",
       "        }\n",
       "      </script>\n",
       "    </div>\n",
       "  </div>\n",
       "  "
      ],
      "text/plain": [
       "   Administrative_Duration  Informational_Duration  ProductRelated  \\\n",
       "0                      0.0                     0.0               1   \n",
       "1                      0.0                     0.0               2   \n",
       "2                      0.0                     0.0               1   \n",
       "3                      0.0                     0.0               2   \n",
       "4                      0.0                     0.0              10   \n",
       "\n",
       "   BounceRates  ExitRates  PageValues  SpecialDay  Month  Weekend  \\\n",
       "0         0.20       0.20         0.0         0.0      2      0.0   \n",
       "1         0.00       0.10         0.0         0.0      2      0.0   \n",
       "2         0.20       0.20         0.0         0.0      2      0.0   \n",
       "3         0.05       0.14         0.0         0.0      2      0.0   \n",
       "4         0.02       0.05         0.0         0.0      2      1.0   \n",
       "\n",
       "   New_Visitor  Other  Returning_Visitor  OperatingSystems_cat  Browser_cat  \\\n",
       "0            0      0                  1                     4            8   \n",
       "1            0      0                  1                     4            1   \n",
       "2            0      0                  1                     7            8   \n",
       "3            0      0                  1                     0            1   \n",
       "4            0      0                  1                     0           11   \n",
       "\n",
       "   Region_cat  TrafficType_cat  \n",
       "0           4                2  \n",
       "1           4                0  \n",
       "2           3                3  \n",
       "3           6                4  \n",
       "4           4                4  "
      ]
     },
     "execution_count": 364,
     "metadata": {},
     "output_type": "execute_result"
    }
   ],
   "source": [
    "x.head()"
   ]
  },
  {
   "cell_type": "code",
   "execution_count": 365,
   "metadata": {
    "id": "3B2yGVmdsJUV"
   },
   "outputs": [],
   "source": [
    "# The previously define target y can be used for this new prediction\n",
    "#however, a new X, X_new will be defined by dropping the columns new_visitor and other\n",
    "x_new = x.drop(['New_Visitor', 'Other'], axis=1)\n"
   ]
  },
  {
   "cell_type": "code",
   "execution_count": 366,
   "metadata": {
    "colab": {
     "base_uri": "https://localhost:8080/",
     "height": 206
    },
    "id": "oQuENsoYlvxs",
    "outputId": "503de4aa-dace-4da2-9526-0c960fef0ee7"
   },
   "outputs": [
    {
     "data": {
      "text/html": [
       "\n",
       "  <div id=\"df-23c52fe2-4bff-412a-822a-eacc4fa3b0fe\">\n",
       "    <div class=\"colab-df-container\">\n",
       "      <div>\n",
       "<style scoped>\n",
       "    .dataframe tbody tr th:only-of-type {\n",
       "        vertical-align: middle;\n",
       "    }\n",
       "\n",
       "    .dataframe tbody tr th {\n",
       "        vertical-align: top;\n",
       "    }\n",
       "\n",
       "    .dataframe thead th {\n",
       "        text-align: right;\n",
       "    }\n",
       "</style>\n",
       "<table border=\"1\" class=\"dataframe\">\n",
       "  <thead>\n",
       "    <tr style=\"text-align: right;\">\n",
       "      <th></th>\n",
       "      <th>Administrative_Duration</th>\n",
       "      <th>Informational_Duration</th>\n",
       "      <th>ProductRelated</th>\n",
       "      <th>BounceRates</th>\n",
       "      <th>ExitRates</th>\n",
       "      <th>PageValues</th>\n",
       "      <th>SpecialDay</th>\n",
       "      <th>Month</th>\n",
       "      <th>Weekend</th>\n",
       "      <th>Returning_Visitor</th>\n",
       "      <th>OperatingSystems_cat</th>\n",
       "      <th>Browser_cat</th>\n",
       "      <th>Region_cat</th>\n",
       "      <th>TrafficType_cat</th>\n",
       "    </tr>\n",
       "  </thead>\n",
       "  <tbody>\n",
       "    <tr>\n",
       "      <th>0</th>\n",
       "      <td>0.0</td>\n",
       "      <td>0.0</td>\n",
       "      <td>1</td>\n",
       "      <td>0.20</td>\n",
       "      <td>0.20</td>\n",
       "      <td>0.0</td>\n",
       "      <td>0.0</td>\n",
       "      <td>2</td>\n",
       "      <td>0.0</td>\n",
       "      <td>1</td>\n",
       "      <td>4</td>\n",
       "      <td>8</td>\n",
       "      <td>4</td>\n",
       "      <td>2</td>\n",
       "    </tr>\n",
       "    <tr>\n",
       "      <th>1</th>\n",
       "      <td>0.0</td>\n",
       "      <td>0.0</td>\n",
       "      <td>2</td>\n",
       "      <td>0.00</td>\n",
       "      <td>0.10</td>\n",
       "      <td>0.0</td>\n",
       "      <td>0.0</td>\n",
       "      <td>2</td>\n",
       "      <td>0.0</td>\n",
       "      <td>1</td>\n",
       "      <td>4</td>\n",
       "      <td>1</td>\n",
       "      <td>4</td>\n",
       "      <td>0</td>\n",
       "    </tr>\n",
       "    <tr>\n",
       "      <th>2</th>\n",
       "      <td>0.0</td>\n",
       "      <td>0.0</td>\n",
       "      <td>1</td>\n",
       "      <td>0.20</td>\n",
       "      <td>0.20</td>\n",
       "      <td>0.0</td>\n",
       "      <td>0.0</td>\n",
       "      <td>2</td>\n",
       "      <td>0.0</td>\n",
       "      <td>1</td>\n",
       "      <td>7</td>\n",
       "      <td>8</td>\n",
       "      <td>3</td>\n",
       "      <td>3</td>\n",
       "    </tr>\n",
       "    <tr>\n",
       "      <th>3</th>\n",
       "      <td>0.0</td>\n",
       "      <td>0.0</td>\n",
       "      <td>2</td>\n",
       "      <td>0.05</td>\n",
       "      <td>0.14</td>\n",
       "      <td>0.0</td>\n",
       "      <td>0.0</td>\n",
       "      <td>2</td>\n",
       "      <td>0.0</td>\n",
       "      <td>1</td>\n",
       "      <td>0</td>\n",
       "      <td>1</td>\n",
       "      <td>6</td>\n",
       "      <td>4</td>\n",
       "    </tr>\n",
       "    <tr>\n",
       "      <th>4</th>\n",
       "      <td>0.0</td>\n",
       "      <td>0.0</td>\n",
       "      <td>10</td>\n",
       "      <td>0.02</td>\n",
       "      <td>0.05</td>\n",
       "      <td>0.0</td>\n",
       "      <td>0.0</td>\n",
       "      <td>2</td>\n",
       "      <td>1.0</td>\n",
       "      <td>1</td>\n",
       "      <td>0</td>\n",
       "      <td>11</td>\n",
       "      <td>4</td>\n",
       "      <td>4</td>\n",
       "    </tr>\n",
       "  </tbody>\n",
       "</table>\n",
       "</div>\n",
       "      <button class=\"colab-df-convert\" onclick=\"convertToInteractive('df-23c52fe2-4bff-412a-822a-eacc4fa3b0fe')\"\n",
       "              title=\"Convert this dataframe to an interactive table.\"\n",
       "              style=\"display:none;\">\n",
       "        \n",
       "  <svg xmlns=\"http://www.w3.org/2000/svg\" height=\"24px\"viewBox=\"0 0 24 24\"\n",
       "       width=\"24px\">\n",
       "    <path d=\"M0 0h24v24H0V0z\" fill=\"none\"/>\n",
       "    <path d=\"M18.56 5.44l.94 2.06.94-2.06 2.06-.94-2.06-.94-.94-2.06-.94 2.06-2.06.94zm-11 1L8.5 8.5l.94-2.06 2.06-.94-2.06-.94L8.5 2.5l-.94 2.06-2.06.94zm10 10l.94 2.06.94-2.06 2.06-.94-2.06-.94-.94-2.06-.94 2.06-2.06.94z\"/><path d=\"M17.41 7.96l-1.37-1.37c-.4-.4-.92-.59-1.43-.59-.52 0-1.04.2-1.43.59L10.3 9.45l-7.72 7.72c-.78.78-.78 2.05 0 2.83L4 21.41c.39.39.9.59 1.41.59.51 0 1.02-.2 1.41-.59l7.78-7.78 2.81-2.81c.8-.78.8-2.07 0-2.86zM5.41 20L4 18.59l7.72-7.72 1.47 1.35L5.41 20z\"/>\n",
       "  </svg>\n",
       "      </button>\n",
       "      \n",
       "  <style>\n",
       "    .colab-df-container {\n",
       "      display:flex;\n",
       "      flex-wrap:wrap;\n",
       "      gap: 12px;\n",
       "    }\n",
       "\n",
       "    .colab-df-convert {\n",
       "      background-color: #E8F0FE;\n",
       "      border: none;\n",
       "      border-radius: 50%;\n",
       "      cursor: pointer;\n",
       "      display: none;\n",
       "      fill: #1967D2;\n",
       "      height: 32px;\n",
       "      padding: 0 0 0 0;\n",
       "      width: 32px;\n",
       "    }\n",
       "\n",
       "    .colab-df-convert:hover {\n",
       "      background-color: #E2EBFA;\n",
       "      box-shadow: 0px 1px 2px rgba(60, 64, 67, 0.3), 0px 1px 3px 1px rgba(60, 64, 67, 0.15);\n",
       "      fill: #174EA6;\n",
       "    }\n",
       "\n",
       "    [theme=dark] .colab-df-convert {\n",
       "      background-color: #3B4455;\n",
       "      fill: #D2E3FC;\n",
       "    }\n",
       "\n",
       "    [theme=dark] .colab-df-convert:hover {\n",
       "      background-color: #434B5C;\n",
       "      box-shadow: 0px 1px 3px 1px rgba(0, 0, 0, 0.15);\n",
       "      filter: drop-shadow(0px 1px 2px rgba(0, 0, 0, 0.3));\n",
       "      fill: #FFFFFF;\n",
       "    }\n",
       "  </style>\n",
       "\n",
       "      <script>\n",
       "        const buttonEl =\n",
       "          document.querySelector('#df-23c52fe2-4bff-412a-822a-eacc4fa3b0fe button.colab-df-convert');\n",
       "        buttonEl.style.display =\n",
       "          google.colab.kernel.accessAllowed ? 'block' : 'none';\n",
       "\n",
       "        async function convertToInteractive(key) {\n",
       "          const element = document.querySelector('#df-23c52fe2-4bff-412a-822a-eacc4fa3b0fe');\n",
       "          const dataTable =\n",
       "            await google.colab.kernel.invokeFunction('convertToInteractive',\n",
       "                                                     [key], {});\n",
       "          if (!dataTable) return;\n",
       "\n",
       "          const docLinkHtml = 'Like what you see? Visit the ' +\n",
       "            '<a target=\"_blank\" href=https://colab.research.google.com/notebooks/data_table.ipynb>data table notebook</a>'\n",
       "            + ' to learn more about interactive tables.';\n",
       "          element.innerHTML = '';\n",
       "          dataTable['output_type'] = 'display_data';\n",
       "          await google.colab.output.renderOutput(dataTable, element);\n",
       "          const docLink = document.createElement('div');\n",
       "          docLink.innerHTML = docLinkHtml;\n",
       "          element.appendChild(docLink);\n",
       "        }\n",
       "      </script>\n",
       "    </div>\n",
       "  </div>\n",
       "  "
      ],
      "text/plain": [
       "   Administrative_Duration  Informational_Duration  ProductRelated  \\\n",
       "0                      0.0                     0.0               1   \n",
       "1                      0.0                     0.0               2   \n",
       "2                      0.0                     0.0               1   \n",
       "3                      0.0                     0.0               2   \n",
       "4                      0.0                     0.0              10   \n",
       "\n",
       "   BounceRates  ExitRates  PageValues  SpecialDay  Month  Weekend  \\\n",
       "0         0.20       0.20         0.0         0.0      2      0.0   \n",
       "1         0.00       0.10         0.0         0.0      2      0.0   \n",
       "2         0.20       0.20         0.0         0.0      2      0.0   \n",
       "3         0.05       0.14         0.0         0.0      2      0.0   \n",
       "4         0.02       0.05         0.0         0.0      2      1.0   \n",
       "\n",
       "   Returning_Visitor  OperatingSystems_cat  Browser_cat  Region_cat  \\\n",
       "0                  1                     4            8           4   \n",
       "1                  1                     4            1           4   \n",
       "2                  1                     7            8           3   \n",
       "3                  1                     0            1           6   \n",
       "4                  1                     0           11           4   \n",
       "\n",
       "   TrafficType_cat  \n",
       "0                2  \n",
       "1                0  \n",
       "2                3  \n",
       "3                4  \n",
       "4                4  "
      ]
     },
     "execution_count": 366,
     "metadata": {},
     "output_type": "execute_result"
    }
   ],
   "source": [
    "x_new.head()"
   ]
  },
  {
   "cell_type": "code",
   "execution_count": 367,
   "metadata": {
    "id": "_ykoROqGw4oZ"
   },
   "outputs": [],
   "source": [
    "#Scale or normalise the data before using\n",
    "\n",
    "standardizer = StandardScaler()\n",
    "X_new = standardizer.fit_transform(x_new)"
   ]
  },
  {
   "cell_type": "code",
   "execution_count": 368,
   "metadata": {
    "id": "ZHM1gMQMxVMZ"
   },
   "outputs": [],
   "source": [
    "#Split the data set into training and test dataset\n",
    "X_train_new, X_test_new, y_train_new, y_test_new = train_test_split(X_new,y,test_size=0.2, random_state=0)"
   ]
  },
  {
   "cell_type": "markdown",
   "metadata": {
    "id": "XfkBn1Nw0k3Y"
   },
   "source": [
    "The new classifer will be fitted using the lightGMB library. This change is because I will also be finding the most important columns that contributes the the prediction. To do this the website https://machinelearningmastery.com/calculate-feature-importance-with-python/ suggests ways for using sklearn classifier which appeared a bit more challenging to implement compared to using lightGBM as described here https://www.analyticsvidhya.com/blog/2021/08/complete-guide-on-how-to-use-lightgbm-in-python/. LightGBM is a boosting model which tends to improve accuracy and training speed."
   ]
  },
  {
   "cell_type": "code",
   "execution_count": 369,
   "metadata": {
    "colab": {
     "base_uri": "https://localhost:8080/"
    },
    "id": "qX1xeKv2w0z9",
    "outputId": "1ef53262-6667-4a76-bb8c-9bae11631dc4"
   },
   "outputs": [
    {
     "name": "stdout",
     "output_type": "stream",
     "text": [
      "[20]\ttraining's binary_logloss: 0.210182\ttraining's binary_logloss: 0.210182\tvalid_0's binary_logloss: 0.24327\tvalid_0's binary_logloss: 0.24327\n",
      "[40]\ttraining's binary_logloss: 0.17776\ttraining's binary_logloss: 0.17776\tvalid_0's binary_logloss: 0.22976\tvalid_0's binary_logloss: 0.22976\n",
      "[60]\ttraining's binary_logloss: 0.159701\ttraining's binary_logloss: 0.159701\tvalid_0's binary_logloss: 0.229434\tvalid_0's binary_logloss: 0.229434\n",
      "[80]\ttraining's binary_logloss: 0.146274\ttraining's binary_logloss: 0.146274\tvalid_0's binary_logloss: 0.232615\tvalid_0's binary_logloss: 0.232615\n",
      "[100]\ttraining's binary_logloss: 0.13427\ttraining's binary_logloss: 0.13427\tvalid_0's binary_logloss: 0.234893\tvalid_0's binary_logloss: 0.234893\n"
     ]
    },
    {
     "data": {
      "text/plain": [
       "LGBMClassifier(learning_rate=0.09, max_depth=-6, random_state=40)"
      ]
     },
     "execution_count": 369,
     "metadata": {},
     "output_type": "execute_result"
    }
   ],
   "source": [
    "#fitting lightGBM model\n",
    "modellgb = lgb.LGBMClassifier(learning_rate=0.09,max_depth=-6,random_state=40)\n",
    "modellgb.fit(X_train_new,y_train_new,eval_set=[(X_test_new,y_test),(X_train_new,y_train_new)],\n",
    "          verbose=20,eval_metric='logloss')"
   ]
  },
  {
   "cell_type": "code",
   "execution_count": 370,
   "metadata": {
    "colab": {
     "base_uri": "https://localhost:8080/"
    },
    "id": "IGNKnXxHy960",
    "outputId": "b08a1fb9-dc7a-437b-ffe0-5f7a005aa745"
   },
   "outputs": [
    {
     "name": "stdout",
     "output_type": "stream",
     "text": [
      "Training accuracy 0.95\n",
      "Testing accuracy 0.90\n"
     ]
    }
   ],
   "source": [
    "print('Training accuracy {:.2f}'.format(modellgb.score(X_train_new,y_train)))\n",
    "print('Testing accuracy {:.2f}'.format(modellgb.score(X_test_new,y_test)))"
   ]
  },
  {
   "cell_type": "markdown",
   "metadata": {
    "id": "AlVvrYH8PdIb"
   },
   "source": [
    "# **An investigation of the most important attributes contributing to the prediction**\n",
    "\n",
    "According to these website, the library lightgbm has a function plot_importance to plot the importance of each attribute to the model.\n",
    "\n",
    "https://www.analyticsvidhya.com/blog/2021/08/complete-guide-on-how-to-use-lightgbm-in-python/\n",
    "\n",
    "https://lightgbm.readthedocs.io/en/latest/R/reference/lgb.importance.html"
   ]
  },
  {
   "cell_type": "code",
   "execution_count": 371,
   "metadata": {
    "colab": {
     "base_uri": "https://localhost:8080/",
     "height": 638
    },
    "id": "zC1KrhkzMFZw",
    "outputId": "2e67a761-a9bc-4d50-dd5b-11b8e3e53d74"
   },
   "outputs": [
    {
     "data": {
      "text/plain": [
       "<matplotlib.axes._subplots.AxesSubplot at 0x7f94e574b9d0>"
      ]
     },
     "execution_count": 371,
     "metadata": {},
     "output_type": "execute_result"
    },
    {
     "data": {
      "image/png": "[encoded data removed]",
      "text/plain": [
       "<Figure size 720x720 with 1 Axes>"
      ]
     },
     "metadata": {
      "needs_background": "light"
     },
     "output_type": "display_data"
    }
   ],
   "source": [
    "#Using plot_importance\n",
    "lgb.plot_importance(modellgb, figsize =(10,10))"
   ]
  },
  {
   "cell_type": "markdown",
   "metadata": {
    "id": "twwB96aDPmv0"
   },
   "source": [
    "**From this result of the feature importance, the colums are ranked as follow:**\n",
    "\n",
    "ExitRate\n",
    "\n",
    "ProductRelated\n",
    "\n",
    "AdministrativeDuration\n",
    "\n",
    "BounceRate\n",
    "\n",
    "PageValues\n",
    "\n",
    "TrafficTypes\n",
    "\n",
    "InformationDuration\n",
    "\n",
    "Region\n",
    "\n",
    "Browser\n",
    "\n",
    "OperatingSystems\n",
    "\n",
    "ReturningVisitor\n",
    "\n",
    "Weekend\n",
    "\n",
    "SpecialDay\n",
    "\n",
    "**It is logical to expect ProductDuration to be an important feature as visitors to an eshop will likely spend time to look at the products they are interested in buying. However, it is surprising to have ExitRate as the most important, but from the statistical information for the columns it is evident that the average exit rate for visitors is very low at 0.04 seconds. This results appear to imply that visitors who remain the longest on the eshop are the ones who are likely to convert.**\n",
    "\n",
    "**A drawback for this business challenge is the fact that the data set does not have specific products that visitors have purchased as this would allow for depper analysis of the eshop's performance.**"
   ]
  }
 ],
 "metadata": {
  "colab": {
   "collapsed_sections": [],
   "name": "Assignment.ipynb",
   "provenance": []
  },
  "kernelspec": {
   "display_name": "Python 3 (ipykernel)",
   "language": "python",
   "name": "python3"
  },
  "language_info": {
   "codemirror_mode": {
    "name": "ipython",
    "version": 3
   },
   "file_extension": ".py",
   "mimetype": "text/x-python",
   "name": "python",
   "nbconvert_exporter": "python",
   "pygments_lexer": "ipython3",
   "version": "3.9.7"
  }
 },
 "nbformat": 4,
 "nbformat_minor": 1
}
